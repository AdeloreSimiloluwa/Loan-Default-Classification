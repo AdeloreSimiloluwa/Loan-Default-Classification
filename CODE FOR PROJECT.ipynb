{
 "cells": [
  {
   "cell_type": "markdown",
   "metadata": {},
   "source": [
    "### Loan Default Prediction\n", 
   ]
  },
  {
   "cell_type": "markdown",
   "metadata": {
    "ExecuteTime": {
     "end_time": "2019-12-04T03:55:32.304701Z",
     "start_time": "2019-12-04T03:55:32.297721Z"
    }
   },
   "source": [
    "Importing all the necessary libraries"
   ]
  },
  {
   "cell_type": "code",
   "execution_count": 2,
   "metadata": {
    "ExecuteTime": {
     "end_time": "2019-12-13T06:08:20.766572Z",
     "start_time": "2019-12-13T06:08:20.728126Z"
    }
   },
   "outputs": [],
   "source": [
    "import pandas as pd \n",
    "import numpy as np \n",
    "import matplotlib.pyplot as plt \n",
    "import seaborn as sns\n",
    "import re\n",
    "import os\n",
    "import datetime as dt\n",
    "%matplotlib inline\n",
    "from sklearn.model_selection import train_test_split\n",
    "from sklearn.metrics import accuracy_score\n",
    "from sklearn.linear_model import LogisticRegression\n",
    "import sklearn.metrics as metrics\n",
    "from sklearn.utils import resample\n",
    "from datetime import date\n",
    "from sklearn import preprocessing\n",
    "from sklearn.feature_selection import SelectFromModel\n",
    "from sklearn.ensemble import RandomForestClassifier\n",
    "import statsmodels.api as sm\n",
    "from sklearn.ensemble import ExtraTreesClassifier\n",
    "from sklearn.feature_selection import RFE\n",
    "from sklearn.linear_model import RidgeCV, LassoCV, Ridge, Lasso\n",
    "from sklearn.metrics import roc_auc_score\n",
    "from sklearn import datasets\n",
    "from sklearn.feature_selection import RFE\n",
    "from sklearn.linear_model import LogisticRegression\n",
    "from scipy import stats\n",
    "from sklearn.tree import export_graphviz\n",
    "from IPython import display"
   ]
  },
  {
   "cell_type": "code",
   "execution_count": 3,
   "metadata": {
    "ExecuteTime": {
     "end_time": "2019-12-13T06:08:23.080421Z",
     "start_time": "2019-12-13T06:08:23.072966Z"
    }
   },
   "outputs": [],
   "source": [
    "# import warnings filter\n",
    "from warnings import simplefilter\n",
    "# ignore all future warnings\n",
    "simplefilter(action='ignore', category=FutureWarning)\n"
   ]
  },
  {
   "cell_type": "markdown",
   "metadata": {},
   "source": [
    "# Load Dataset"
   ]
  },
  {
   "cell_type": "code",
   "execution_count": 4,
   "metadata": {
    "ExecuteTime": {
     "end_time": "2019-12-13T06:08:26.830318Z",
     "start_time": "2019-12-13T06:08:24.586320Z"
    }
   },
   "outputs": [],
   "source": [
    "os.getcwd()#getting the path\n",
    "os.chdir(r'C:\\Users\\akhur\\Desktop\\DAV Project\\Dataset')#setting the path of the data file\n",
    "df_default = pd.read_csv(\"train.csv\")#reading the file"
   ]
  },
  {
   "cell_type": "code",
   "execution_count": 6,
   "metadata": {
    "ExecuteTime": {
     "end_time": "2019-12-13T06:08:32.776398Z",
     "start_time": "2019-12-13T06:08:32.719520Z"
    }
   },
   "outputs": [
    {
     "data": {
      "text/html": [
       "<div>\n",
       "<style scoped>\n",
       "    .dataframe tbody tr th:only-of-type {\n",
       "        vertical-align: middle;\n",
       "    }\n",
       "\n",
       "    .dataframe tbody tr th {\n",
       "        vertical-align: top;\n",
       "    }\n",
       "\n",
       "    .dataframe thead th {\n",
       "        text-align: right;\n",
       "    }\n",
       "</style>\n",
       "<table border=\"1\" class=\"dataframe\">\n",
       "  <thead>\n",
       "    <tr style=\"text-align: right;\">\n",
       "      <th></th>\n",
       "      <th>UniqueID</th>\n",
       "      <th>disbursed_amount</th>\n",
       "      <th>asset_cost</th>\n",
       "      <th>ltv</th>\n",
       "      <th>branch_id</th>\n",
       "      <th>supplier_id</th>\n",
       "      <th>manufacturer_id</th>\n",
       "      <th>Current_pincode_ID</th>\n",
       "      <th>Date.of.Birth</th>\n",
       "      <th>Employment.Type</th>\n",
       "      <th>...</th>\n",
       "      <th>SEC.SANCTIONED.AMOUNT</th>\n",
       "      <th>SEC.DISBURSED.AMOUNT</th>\n",
       "      <th>PRIMARY.INSTAL.AMT</th>\n",
       "      <th>SEC.INSTAL.AMT</th>\n",
       "      <th>NEW.ACCTS.IN.LAST.SIX.MONTHS</th>\n",
       "      <th>DELINQUENT.ACCTS.IN.LAST.SIX.MONTHS</th>\n",
       "      <th>AVERAGE.ACCT.AGE</th>\n",
       "      <th>CREDIT.HISTORY.LENGTH</th>\n",
       "      <th>NO.OF_INQUIRIES</th>\n",
       "      <th>loan_default</th>\n",
       "    </tr>\n",
       "  </thead>\n",
       "  <tbody>\n",
       "    <tr>\n",
       "      <th>0</th>\n",
       "      <td>420825</td>\n",
       "      <td>50578</td>\n",
       "      <td>58400</td>\n",
       "      <td>89.55</td>\n",
       "      <td>67</td>\n",
       "      <td>22807</td>\n",
       "      <td>45</td>\n",
       "      <td>1441</td>\n",
       "      <td>01-01-84</td>\n",
       "      <td>Salaried</td>\n",
       "      <td>...</td>\n",
       "      <td>0</td>\n",
       "      <td>0</td>\n",
       "      <td>0</td>\n",
       "      <td>0</td>\n",
       "      <td>0</td>\n",
       "      <td>0</td>\n",
       "      <td>0yrs 0mon</td>\n",
       "      <td>0yrs 0mon</td>\n",
       "      <td>0</td>\n",
       "      <td>0</td>\n",
       "    </tr>\n",
       "    <tr>\n",
       "      <th>1</th>\n",
       "      <td>537409</td>\n",
       "      <td>47145</td>\n",
       "      <td>65550</td>\n",
       "      <td>73.23</td>\n",
       "      <td>67</td>\n",
       "      <td>22807</td>\n",
       "      <td>45</td>\n",
       "      <td>1502</td>\n",
       "      <td>31-07-85</td>\n",
       "      <td>Self employed</td>\n",
       "      <td>...</td>\n",
       "      <td>0</td>\n",
       "      <td>0</td>\n",
       "      <td>1991</td>\n",
       "      <td>0</td>\n",
       "      <td>0</td>\n",
       "      <td>1</td>\n",
       "      <td>1yrs 11mon</td>\n",
       "      <td>1yrs 11mon</td>\n",
       "      <td>0</td>\n",
       "      <td>1</td>\n",
       "    </tr>\n",
       "    <tr>\n",
       "      <th>2</th>\n",
       "      <td>417566</td>\n",
       "      <td>53278</td>\n",
       "      <td>61360</td>\n",
       "      <td>89.63</td>\n",
       "      <td>67</td>\n",
       "      <td>22807</td>\n",
       "      <td>45</td>\n",
       "      <td>1497</td>\n",
       "      <td>24-08-85</td>\n",
       "      <td>Self employed</td>\n",
       "      <td>...</td>\n",
       "      <td>0</td>\n",
       "      <td>0</td>\n",
       "      <td>0</td>\n",
       "      <td>0</td>\n",
       "      <td>0</td>\n",
       "      <td>0</td>\n",
       "      <td>0yrs 0mon</td>\n",
       "      <td>0yrs 0mon</td>\n",
       "      <td>0</td>\n",
       "      <td>0</td>\n",
       "    </tr>\n",
       "    <tr>\n",
       "      <th>3</th>\n",
       "      <td>624493</td>\n",
       "      <td>57513</td>\n",
       "      <td>66113</td>\n",
       "      <td>88.48</td>\n",
       "      <td>67</td>\n",
       "      <td>22807</td>\n",
       "      <td>45</td>\n",
       "      <td>1501</td>\n",
       "      <td>30-12-93</td>\n",
       "      <td>Self employed</td>\n",
       "      <td>...</td>\n",
       "      <td>0</td>\n",
       "      <td>0</td>\n",
       "      <td>31</td>\n",
       "      <td>0</td>\n",
       "      <td>0</td>\n",
       "      <td>0</td>\n",
       "      <td>0yrs 8mon</td>\n",
       "      <td>1yrs 3mon</td>\n",
       "      <td>1</td>\n",
       "      <td>1</td>\n",
       "    </tr>\n",
       "    <tr>\n",
       "      <th>4</th>\n",
       "      <td>539055</td>\n",
       "      <td>52378</td>\n",
       "      <td>60300</td>\n",
       "      <td>88.39</td>\n",
       "      <td>67</td>\n",
       "      <td>22807</td>\n",
       "      <td>45</td>\n",
       "      <td>1495</td>\n",
       "      <td>09-12-77</td>\n",
       "      <td>Self employed</td>\n",
       "      <td>...</td>\n",
       "      <td>0</td>\n",
       "      <td>0</td>\n",
       "      <td>0</td>\n",
       "      <td>0</td>\n",
       "      <td>0</td>\n",
       "      <td>0</td>\n",
       "      <td>0yrs 0mon</td>\n",
       "      <td>0yrs 0mon</td>\n",
       "      <td>1</td>\n",
       "      <td>1</td>\n",
       "    </tr>\n",
       "  </tbody>\n",
       "</table>\n",
       "<p>5 rows × 41 columns</p>\n",
       "</div>"
      ],
      "text/plain": [
       "   UniqueID  disbursed_amount  asset_cost    ltv  branch_id  supplier_id  \\\n",
       "0    420825             50578       58400  89.55         67        22807   \n",
       "1    537409             47145       65550  73.23         67        22807   \n",
       "2    417566             53278       61360  89.63         67        22807   \n",
       "3    624493             57513       66113  88.48         67        22807   \n",
       "4    539055             52378       60300  88.39         67        22807   \n",
       "\n",
       "   manufacturer_id  Current_pincode_ID Date.of.Birth Employment.Type  ...  \\\n",
       "0               45                1441      01-01-84        Salaried  ...   \n",
       "1               45                1502      31-07-85   Self employed  ...   \n",
       "2               45                1497      24-08-85   Self employed  ...   \n",
       "3               45                1501      30-12-93   Self employed  ...   \n",
       "4               45                1495      09-12-77   Self employed  ...   \n",
       "\n",
       "  SEC.SANCTIONED.AMOUNT  SEC.DISBURSED.AMOUNT  PRIMARY.INSTAL.AMT  \\\n",
       "0                     0                     0                   0   \n",
       "1                     0                     0                1991   \n",
       "2                     0                     0                   0   \n",
       "3                     0                     0                  31   \n",
       "4                     0                     0                   0   \n",
       "\n",
       "   SEC.INSTAL.AMT  NEW.ACCTS.IN.LAST.SIX.MONTHS  \\\n",
       "0               0                             0   \n",
       "1               0                             0   \n",
       "2               0                             0   \n",
       "3               0                             0   \n",
       "4               0                             0   \n",
       "\n",
       "   DELINQUENT.ACCTS.IN.LAST.SIX.MONTHS  AVERAGE.ACCT.AGE  \\\n",
       "0                                    0         0yrs 0mon   \n",
       "1                                    1        1yrs 11mon   \n",
       "2                                    0         0yrs 0mon   \n",
       "3                                    0         0yrs 8mon   \n",
       "4                                    0         0yrs 0mon   \n",
       "\n",
       "   CREDIT.HISTORY.LENGTH  NO.OF_INQUIRIES  loan_default  \n",
       "0              0yrs 0mon                0             0  \n",
       "1             1yrs 11mon                0             1  \n",
       "2              0yrs 0mon                0             0  \n",
       "3              1yrs 3mon                1             1  \n",
       "4              0yrs 0mon                1             1  \n",
       "\n",
       "[5 rows x 41 columns]"
      ]
     },
     "execution_count": 6,
     "metadata": {},
     "output_type": "execute_result"
    }
   ],
   "source": [
    "df_default.head()"
   ]
  },
  {
   "cell_type": "markdown",
   "metadata": {},
   "source": [
    "# Data Cleaning and Transformation"
   ]
  },
  {
   "cell_type": "code",
   "execution_count": 7,
   "metadata": {
    "ExecuteTime": {
     "end_time": "2019-12-13T06:08:34.884791Z",
     "start_time": "2019-12-13T06:08:34.876958Z"
    }
   },
   "outputs": [],
   "source": [
    "# change the column heads to lower case\n",
    "df_default.columns = map(str.lower, df_default.columns) "
   ]
  },
  {
   "cell_type": "code",
   "execution_count": 8,
   "metadata": {
    "ExecuteTime": {
     "end_time": "2019-12-13T06:08:36.650443Z",
     "start_time": "2019-12-13T06:08:36.217599Z"
    }
   },
   "outputs": [
    {
     "name": "stdout",
     "output_type": "stream",
     "text": [
      "<class 'pandas.core.frame.DataFrame'>\n",
      "RangeIndex: 233154 entries, 0 to 233153\n",
      "Data columns (total 41 columns):\n",
      "uniqueid                               233154 non-null int64\n",
      "disbursed_amount                       233154 non-null int64\n",
      "asset_cost                             233154 non-null int64\n",
      "ltv                                    233154 non-null float64\n",
      "branch_id                              233154 non-null int64\n",
      "supplier_id                            233154 non-null int64\n",
      "manufacturer_id                        233154 non-null int64\n",
      "current_pincode_id                     233154 non-null int64\n",
      "date.of.birth                          233154 non-null object\n",
      "employment.type                        225493 non-null object\n",
      "disbursaldate                          233154 non-null object\n",
      "state_id                               233154 non-null int64\n",
      "employee_code_id                       233154 non-null int64\n",
      "mobileno_avl_flag                      233154 non-null int64\n",
      "aadhar_flag                            233154 non-null int64\n",
      "pan_flag                               233154 non-null int64\n",
      "voterid_flag                           233154 non-null int64\n",
      "driving_flag                           233154 non-null int64\n",
      "passport_flag                          233154 non-null int64\n",
      "perform_cns.score                      233154 non-null int64\n",
      "perform_cns.score.description          233154 non-null object\n",
      "pri.no.of.accts                        233154 non-null int64\n",
      "pri.active.accts                       233154 non-null int64\n",
      "pri.overdue.accts                      233154 non-null int64\n",
      "pri.current.balance                    233154 non-null int64\n",
      "pri.sanctioned.amount                  233154 non-null int64\n",
      "pri.disbursed.amount                   233154 non-null int64\n",
      "sec.no.of.accts                        233154 non-null int64\n",
      "sec.active.accts                       233154 non-null int64\n",
      "sec.overdue.accts                      233154 non-null int64\n",
      "sec.current.balance                    233154 non-null int64\n",
      "sec.sanctioned.amount                  233154 non-null int64\n",
      "sec.disbursed.amount                   233154 non-null int64\n",
      "primary.instal.amt                     233154 non-null int64\n",
      "sec.instal.amt                         233154 non-null int64\n",
      "new.accts.in.last.six.months           233154 non-null int64\n",
      "delinquent.accts.in.last.six.months    233154 non-null int64\n",
      "average.acct.age                       233154 non-null object\n",
      "credit.history.length                  233154 non-null object\n",
      "no.of_inquiries                        233154 non-null int64\n",
      "loan_default                           233154 non-null int64\n",
      "dtypes: float64(1), int64(34), object(6)\n",
      "memory usage: 72.9+ MB\n"
     ]
    }
   ],
   "source": [
    "df_default.info()"
   ]
  },
  {
   "cell_type": "markdown",
   "metadata": {},
   "source": [
    "### We can see that employment.type has null values in them"
   ]
  },
  {
   "cell_type": "code",
   "execution_count": 9,
   "metadata": {
    "ExecuteTime": {
     "end_time": "2019-12-13T06:08:39.879946Z",
     "start_time": "2019-12-13T06:08:39.531112Z"
    }
   },
   "outputs": [
    {
     "data": {
      "text/plain": [
       "uniqueid                                  0\n",
       "disbursed_amount                          0\n",
       "asset_cost                                0\n",
       "ltv                                       0\n",
       "branch_id                                 0\n",
       "supplier_id                               0\n",
       "manufacturer_id                           0\n",
       "current_pincode_id                        0\n",
       "date.of.birth                             0\n",
       "employment.type                        7661\n",
       "disbursaldate                             0\n",
       "state_id                                  0\n",
       "employee_code_id                          0\n",
       "mobileno_avl_flag                         0\n",
       "aadhar_flag                               0\n",
       "pan_flag                                  0\n",
       "voterid_flag                              0\n",
       "driving_flag                              0\n",
       "passport_flag                             0\n",
       "perform_cns.score                         0\n",
       "perform_cns.score.description             0\n",
       "pri.no.of.accts                           0\n",
       "pri.active.accts                          0\n",
       "pri.overdue.accts                         0\n",
       "pri.current.balance                       0\n",
       "pri.sanctioned.amount                     0\n",
       "pri.disbursed.amount                      0\n",
       "sec.no.of.accts                           0\n",
       "sec.active.accts                          0\n",
       "sec.overdue.accts                         0\n",
       "sec.current.balance                       0\n",
       "sec.sanctioned.amount                     0\n",
       "sec.disbursed.amount                      0\n",
       "primary.instal.amt                        0\n",
       "sec.instal.amt                            0\n",
       "new.accts.in.last.six.months              0\n",
       "delinquent.accts.in.last.six.months       0\n",
       "average.acct.age                          0\n",
       "credit.history.length                     0\n",
       "no.of_inquiries                           0\n",
       "loan_default                              0\n",
       "dtype: int64"
      ]
     },
     "execution_count": 9,
     "metadata": {},
     "output_type": "execute_result"
    }
   ],
   "source": [
    "df_default.isnull().sum()"
   ]
  },
  {
   "cell_type": "markdown",
   "metadata": {},
   "source": [
    "Since we have a great number of null values (7661) in the Employment Type column, we can assume that because there were just two option unemployed members had to put NA, so we can create another category with the null values."
   ]
  },
  {
   "cell_type": "code",
   "execution_count": 10,
   "metadata": {
    "ExecuteTime": {
     "end_time": "2019-12-13T06:08:42.173819Z",
     "start_time": "2019-12-13T06:08:42.110298Z"
    }
   },
   "outputs": [
    {
     "data": {
      "text/plain": [
       "Self employed    127635\n",
       "Salaried          97858\n",
       "Name: employment.type, dtype: int64"
      ]
     },
     "execution_count": 10,
     "metadata": {},
     "output_type": "execute_result"
    }
   ],
   "source": [
    " df_default['employment.type'].value_counts() "
   ]
  },
  {
   "cell_type": "code",
   "execution_count": 11,
   "metadata": {
    "ExecuteTime": {
     "end_time": "2019-12-13T06:08:44.151329Z",
     "start_time": "2019-12-13T06:08:44.115362Z"
    }
   },
   "outputs": [],
   "source": [
    "# fill Na with unemployed\n",
    "df_default['employment.type'].fillna('unemployed', inplace = True)"
   ]
  },
  {
   "cell_type": "code",
   "execution_count": 12,
   "metadata": {
    "ExecuteTime": {
     "end_time": "2019-12-13T06:08:45.592166Z",
     "start_time": "2019-12-13T06:08:45.541158Z"
    }
   },
   "outputs": [
    {
     "data": {
      "text/plain": [
       "Self employed    127635\n",
       "Salaried          97858\n",
       "unemployed         7661\n",
       "Name: employment.type, dtype: int64"
      ]
     },
     "execution_count": 12,
     "metadata": {},
     "output_type": "execute_result"
    }
   ],
   "source": [
    "#Check\n",
    "df_default['employment.type'].value_counts() "
   ]
  },
  {
   "cell_type": "markdown",
   "metadata": {},
   "source": [
    "##### Dropping the columns that we are not using for analysis"
   ]
  },
  {
   "cell_type": "code",
   "execution_count": 13,
   "metadata": {
    "ExecuteTime": {
     "end_time": "2019-12-13T06:08:46.943147Z",
     "start_time": "2019-12-13T06:08:46.871283Z"
    }
   },
   "outputs": [],
   "source": [
    "df_default= df_default.drop(columns = ['pan_flag',\n",
    " 'voterid_flag',\n",
    " 'driving_flag',\n",
    " 'passport_flag', 'mobileno_avl_flag','employee_code_id','branch_id',\n",
    " 'supplier_id',\n",
    " 'manufacturer_id','state_id'])"
   ]
  },
  {
   "cell_type": "markdown",
   "metadata": {},
   "source": [
    "##### Convert 'date of birth'  column into datetime format"
   ]
  },
  {
   "cell_type": "code",
   "execution_count": 14,
   "metadata": {
    "ExecuteTime": {
     "end_time": "2019-12-13T06:09:35.674077Z",
     "start_time": "2019-12-13T06:08:48.306915Z"
    }
   },
   "outputs": [],
   "source": [
    "y = df_default[\"date.of.birth\"]\n",
    "df_date = pd.to_datetime(y)\n",
    "#converting the year fomats where year is greater than 2020\n",
    "df_default[\"Dob\"]=df_date \n",
    "df_default.loc[df_default[\"Dob\"].dt.year >= 2020, 'Dob'] -= pd.DateOffset(years=100)\n"
   ]
  },
  {
   "cell_type": "code",
   "execution_count": 15,
   "metadata": {
    "ExecuteTime": {
     "end_time": "2019-12-13T06:09:35.695285Z",
     "start_time": "2019-12-13T06:09:35.680376Z"
    }
   },
   "outputs": [
    {
     "data": {
      "text/plain": [
       "0   1984-01-01\n",
       "1   1985-07-31\n",
       "2   1985-08-24\n",
       "3   1993-12-30\n",
       "4   1977-09-12\n",
       "Name: date.of.birth, dtype: datetime64[ns]"
      ]
     },
     "execution_count": 15,
     "metadata": {},
     "output_type": "execute_result"
    }
   ],
   "source": [
    "df_date.head()"
   ]
  },
  {
   "cell_type": "code",
   "execution_count": 16,
   "metadata": {
    "ExecuteTime": {
     "end_time": "2019-12-13T06:09:35.774598Z",
     "start_time": "2019-12-13T06:09:35.702375Z"
    }
   },
   "outputs": [
    {
     "data": {
      "text/plain": [
       "array([1984, 1985, 1993, 1977, 1990, 1988, 1989, 1991, 1968, 1979, 1974,\n",
       "       1973, 1994, 1976, 1983, 1980, 1978, 1986, 1972, 1969, 1966, 1996,\n",
       "       1982, 1971, 1995, 1964, 1967, 1970, 1997, 1998, 1999, 1975, 1981,\n",
       "       1987, 1962, 1965, 1957, 1963, 1960, 1992, 1955, 1959, 1958, 1956,\n",
       "       1961, 2000, 1954, 1949], dtype=int64)"
      ]
     },
     "execution_count": 16,
     "metadata": {},
     "output_type": "execute_result"
    }
   ],
   "source": [
    "#extracting year of birth\n",
    "df_default['Year of birth'] = pd.DatetimeIndex(df_default['Dob']).year\n",
    "df_default['Year of birth'].unique()"
   ]
  },
  {
   "cell_type": "code",
   "execution_count": 17,
   "metadata": {
    "ExecuteTime": {
     "end_time": "2019-12-13T06:09:35.820202Z",
     "start_time": "2019-12-13T06:09:35.781573Z"
    }
   },
   "outputs": [],
   "source": [
    "#Calculating the ages from the year of birth\n",
    "df_default['age'] = 2019 - df_default['Year of birth']"
   ]
  },
  {
   "cell_type": "code",
   "execution_count": 18,
   "metadata": {
    "ExecuteTime": {
     "end_time": "2019-12-13T06:09:35.885483Z",
     "start_time": "2019-12-13T06:09:35.824167Z"
    }
   },
   "outputs": [
    {
     "data": {
      "text/html": [
       "<div>\n",
       "<style scoped>\n",
       "    .dataframe tbody tr th:only-of-type {\n",
       "        vertical-align: middle;\n",
       "    }\n",
       "\n",
       "    .dataframe tbody tr th {\n",
       "        vertical-align: top;\n",
       "    }\n",
       "\n",
       "    .dataframe thead th {\n",
       "        text-align: right;\n",
       "    }\n",
       "</style>\n",
       "<table border=\"1\" class=\"dataframe\">\n",
       "  <thead>\n",
       "    <tr style=\"text-align: right;\">\n",
       "      <th></th>\n",
       "      <th>uniqueid</th>\n",
       "      <th>disbursed_amount</th>\n",
       "      <th>asset_cost</th>\n",
       "      <th>ltv</th>\n",
       "      <th>current_pincode_id</th>\n",
       "      <th>date.of.birth</th>\n",
       "      <th>employment.type</th>\n",
       "      <th>disbursaldate</th>\n",
       "      <th>aadhar_flag</th>\n",
       "      <th>perform_cns.score</th>\n",
       "      <th>...</th>\n",
       "      <th>sec.instal.amt</th>\n",
       "      <th>new.accts.in.last.six.months</th>\n",
       "      <th>delinquent.accts.in.last.six.months</th>\n",
       "      <th>average.acct.age</th>\n",
       "      <th>credit.history.length</th>\n",
       "      <th>no.of_inquiries</th>\n",
       "      <th>loan_default</th>\n",
       "      <th>Dob</th>\n",
       "      <th>Year of birth</th>\n",
       "      <th>age</th>\n",
       "    </tr>\n",
       "  </thead>\n",
       "  <tbody>\n",
       "    <tr>\n",
       "      <th>0</th>\n",
       "      <td>420825</td>\n",
       "      <td>50578</td>\n",
       "      <td>58400</td>\n",
       "      <td>89.55</td>\n",
       "      <td>1441</td>\n",
       "      <td>01-01-84</td>\n",
       "      <td>Salaried</td>\n",
       "      <td>03-08-18</td>\n",
       "      <td>1</td>\n",
       "      <td>0</td>\n",
       "      <td>...</td>\n",
       "      <td>0</td>\n",
       "      <td>0</td>\n",
       "      <td>0</td>\n",
       "      <td>0yrs 0mon</td>\n",
       "      <td>0yrs 0mon</td>\n",
       "      <td>0</td>\n",
       "      <td>0</td>\n",
       "      <td>1984-01-01</td>\n",
       "      <td>1984</td>\n",
       "      <td>35</td>\n",
       "    </tr>\n",
       "    <tr>\n",
       "      <th>1</th>\n",
       "      <td>537409</td>\n",
       "      <td>47145</td>\n",
       "      <td>65550</td>\n",
       "      <td>73.23</td>\n",
       "      <td>1502</td>\n",
       "      <td>31-07-85</td>\n",
       "      <td>Self employed</td>\n",
       "      <td>26-09-18</td>\n",
       "      <td>1</td>\n",
       "      <td>598</td>\n",
       "      <td>...</td>\n",
       "      <td>0</td>\n",
       "      <td>0</td>\n",
       "      <td>1</td>\n",
       "      <td>1yrs 11mon</td>\n",
       "      <td>1yrs 11mon</td>\n",
       "      <td>0</td>\n",
       "      <td>1</td>\n",
       "      <td>1985-07-31</td>\n",
       "      <td>1985</td>\n",
       "      <td>34</td>\n",
       "    </tr>\n",
       "    <tr>\n",
       "      <th>2</th>\n",
       "      <td>417566</td>\n",
       "      <td>53278</td>\n",
       "      <td>61360</td>\n",
       "      <td>89.63</td>\n",
       "      <td>1497</td>\n",
       "      <td>24-08-85</td>\n",
       "      <td>Self employed</td>\n",
       "      <td>01-08-18</td>\n",
       "      <td>1</td>\n",
       "      <td>0</td>\n",
       "      <td>...</td>\n",
       "      <td>0</td>\n",
       "      <td>0</td>\n",
       "      <td>0</td>\n",
       "      <td>0yrs 0mon</td>\n",
       "      <td>0yrs 0mon</td>\n",
       "      <td>0</td>\n",
       "      <td>0</td>\n",
       "      <td>1985-08-24</td>\n",
       "      <td>1985</td>\n",
       "      <td>34</td>\n",
       "    </tr>\n",
       "    <tr>\n",
       "      <th>3</th>\n",
       "      <td>624493</td>\n",
       "      <td>57513</td>\n",
       "      <td>66113</td>\n",
       "      <td>88.48</td>\n",
       "      <td>1501</td>\n",
       "      <td>30-12-93</td>\n",
       "      <td>Self employed</td>\n",
       "      <td>26-10-18</td>\n",
       "      <td>1</td>\n",
       "      <td>305</td>\n",
       "      <td>...</td>\n",
       "      <td>0</td>\n",
       "      <td>0</td>\n",
       "      <td>0</td>\n",
       "      <td>0yrs 8mon</td>\n",
       "      <td>1yrs 3mon</td>\n",
       "      <td>1</td>\n",
       "      <td>1</td>\n",
       "      <td>1993-12-30</td>\n",
       "      <td>1993</td>\n",
       "      <td>26</td>\n",
       "    </tr>\n",
       "    <tr>\n",
       "      <th>4</th>\n",
       "      <td>539055</td>\n",
       "      <td>52378</td>\n",
       "      <td>60300</td>\n",
       "      <td>88.39</td>\n",
       "      <td>1495</td>\n",
       "      <td>09-12-77</td>\n",
       "      <td>Self employed</td>\n",
       "      <td>26-09-18</td>\n",
       "      <td>1</td>\n",
       "      <td>0</td>\n",
       "      <td>...</td>\n",
       "      <td>0</td>\n",
       "      <td>0</td>\n",
       "      <td>0</td>\n",
       "      <td>0yrs 0mon</td>\n",
       "      <td>0yrs 0mon</td>\n",
       "      <td>1</td>\n",
       "      <td>1</td>\n",
       "      <td>1977-09-12</td>\n",
       "      <td>1977</td>\n",
       "      <td>42</td>\n",
       "    </tr>\n",
       "  </tbody>\n",
       "</table>\n",
       "<p>5 rows × 34 columns</p>\n",
       "</div>"
      ],
      "text/plain": [
       "   uniqueid  disbursed_amount  asset_cost    ltv  current_pincode_id  \\\n",
       "0    420825             50578       58400  89.55                1441   \n",
       "1    537409             47145       65550  73.23                1502   \n",
       "2    417566             53278       61360  89.63                1497   \n",
       "3    624493             57513       66113  88.48                1501   \n",
       "4    539055             52378       60300  88.39                1495   \n",
       "\n",
       "  date.of.birth employment.type disbursaldate  aadhar_flag  perform_cns.score  \\\n",
       "0      01-01-84        Salaried      03-08-18            1                  0   \n",
       "1      31-07-85   Self employed      26-09-18            1                598   \n",
       "2      24-08-85   Self employed      01-08-18            1                  0   \n",
       "3      30-12-93   Self employed      26-10-18            1                305   \n",
       "4      09-12-77   Self employed      26-09-18            1                  0   \n",
       "\n",
       "   ... sec.instal.amt  new.accts.in.last.six.months  \\\n",
       "0  ...              0                             0   \n",
       "1  ...              0                             0   \n",
       "2  ...              0                             0   \n",
       "3  ...              0                             0   \n",
       "4  ...              0                             0   \n",
       "\n",
       "   delinquent.accts.in.last.six.months  average.acct.age  \\\n",
       "0                                    0         0yrs 0mon   \n",
       "1                                    1        1yrs 11mon   \n",
       "2                                    0         0yrs 0mon   \n",
       "3                                    0         0yrs 8mon   \n",
       "4                                    0         0yrs 0mon   \n",
       "\n",
       "   credit.history.length  no.of_inquiries  loan_default        Dob  \\\n",
       "0              0yrs 0mon                0             0 1984-01-01   \n",
       "1             1yrs 11mon                0             1 1985-07-31   \n",
       "2              0yrs 0mon                0             0 1985-08-24   \n",
       "3              1yrs 3mon                1             1 1993-12-30   \n",
       "4              0yrs 0mon                1             1 1977-09-12   \n",
       "\n",
       "   Year of birth  age  \n",
       "0           1984   35  \n",
       "1           1985   34  \n",
       "2           1985   34  \n",
       "3           1993   26  \n",
       "4           1977   42  \n",
       "\n",
       "[5 rows x 34 columns]"
      ]
     },
     "execution_count": 18,
     "metadata": {},
     "output_type": "execute_result"
    }
   ],
   "source": [
    "df_default.head()"
   ]
  },
  {
   "cell_type": "markdown",
   "metadata": {},
   "source": [
    "##### Values from object to integer"
   ]
  },
  {
   "cell_type": "code",
   "execution_count": 19,
   "metadata": {
    "ExecuteTime": {
     "end_time": "2019-12-13T06:09:39.351988Z",
     "start_time": "2019-12-13T06:09:35.890501Z"
    }
   },
   "outputs": [],
   "source": [
    "#credit history\n",
    "df_cred_his = df_default['credit.history.length'].str.extractall('(\\d+)').unstack()\n",
    "df_cred_his.columns = df_cred_his.columns.droplevel(0)"
   ]
  },
  {
   "cell_type": "code",
   "execution_count": 20,
   "metadata": {
    "ExecuteTime": {
     "end_time": "2019-12-13T06:09:39.377915Z",
     "start_time": "2019-12-13T06:09:39.358021Z"
    }
   },
   "outputs": [
    {
     "data": {
      "text/html": [
       "<div>\n",
       "<style scoped>\n",
       "    .dataframe tbody tr th:only-of-type {\n",
       "        vertical-align: middle;\n",
       "    }\n",
       "\n",
       "    .dataframe tbody tr th {\n",
       "        vertical-align: top;\n",
       "    }\n",
       "\n",
       "    .dataframe thead th {\n",
       "        text-align: right;\n",
       "    }\n",
       "</style>\n",
       "<table border=\"1\" class=\"dataframe\">\n",
       "  <thead>\n",
       "    <tr style=\"text-align: right;\">\n",
       "      <th>match</th>\n",
       "      <th>0</th>\n",
       "      <th>1</th>\n",
       "    </tr>\n",
       "  </thead>\n",
       "  <tbody>\n",
       "    <tr>\n",
       "      <th>0</th>\n",
       "      <td>0</td>\n",
       "      <td>0</td>\n",
       "    </tr>\n",
       "    <tr>\n",
       "      <th>1</th>\n",
       "      <td>1</td>\n",
       "      <td>11</td>\n",
       "    </tr>\n",
       "    <tr>\n",
       "      <th>2</th>\n",
       "      <td>0</td>\n",
       "      <td>0</td>\n",
       "    </tr>\n",
       "    <tr>\n",
       "      <th>3</th>\n",
       "      <td>1</td>\n",
       "      <td>3</td>\n",
       "    </tr>\n",
       "    <tr>\n",
       "      <th>4</th>\n",
       "      <td>0</td>\n",
       "      <td>0</td>\n",
       "    </tr>\n",
       "  </tbody>\n",
       "</table>\n",
       "</div>"
      ],
      "text/plain": [
       "match  0   1\n",
       "0      0   0\n",
       "1      1  11\n",
       "2      0   0\n",
       "3      1   3\n",
       "4      0   0"
      ]
     },
     "execution_count": 20,
     "metadata": {},
     "output_type": "execute_result"
    }
   ],
   "source": [
    "df_cred_his.head()"
   ]
  },
  {
   "cell_type": "code",
   "execution_count": 21,
   "metadata": {
    "ExecuteTime": {
     "end_time": "2019-12-13T06:09:39.628819Z",
     "start_time": "2019-12-13T06:09:39.385230Z"
    }
   },
   "outputs": [],
   "source": [
    "df_default['credit_hist_length'] = (df_cred_his.iloc[:,0].astype(str)+'.' + df_cred_his.iloc[:,1].astype(str)).astype(float)"
   ]
  },
  {
   "cell_type": "code",
   "execution_count": 22,
   "metadata": {
    "ExecuteTime": {
     "end_time": "2019-12-13T06:09:43.039571Z",
     "start_time": "2019-12-13T06:09:39.637801Z"
    }
   },
   "outputs": [],
   "source": [
    "#average account age\n",
    "df_avg_acc = df_default['average.acct.age'].str.extractall('(\\d+)').unstack()\n",
    "df_avg_acc.columns = df_avg_acc.columns.droplevel(0)\n",
    "df_default['average_account_age'] = (df_avg_acc.iloc[:,0].astype(str)+'.' + df_avg_acc.iloc[:,1].astype(str)).astype(float)"
   ]
  },
  {
   "cell_type": "markdown",
   "metadata": {},
   "source": [
    "##### Drop columns that were changed"
   ]
  },
  {
   "cell_type": "code",
   "execution_count": 23,
   "metadata": {
    "ExecuteTime": {
     "end_time": "2019-12-13T06:09:43.238781Z",
     "start_time": "2019-12-13T06:09:43.042489Z"
    }
   },
   "outputs": [],
   "source": [
    "df_default = df_default.drop(columns = ['average.acct.age', 'credit.history.length',\"Dob\"])"
   ]
  },
  {
   "cell_type": "code",
   "execution_count": 24,
   "metadata": {
    "ExecuteTime": {
     "end_time": "2019-12-13T06:09:43.284383Z",
     "start_time": "2019-12-13T06:09:43.242801Z"
    }
   },
   "outputs": [
    {
     "data": {
      "text/html": [
       "<div>\n",
       "<style scoped>\n",
       "    .dataframe tbody tr th:only-of-type {\n",
       "        vertical-align: middle;\n",
       "    }\n",
       "\n",
       "    .dataframe tbody tr th {\n",
       "        vertical-align: top;\n",
       "    }\n",
       "\n",
       "    .dataframe thead th {\n",
       "        text-align: right;\n",
       "    }\n",
       "</style>\n",
       "<table border=\"1\" class=\"dataframe\">\n",
       "  <thead>\n",
       "    <tr style=\"text-align: right;\">\n",
       "      <th></th>\n",
       "      <th>uniqueid</th>\n",
       "      <th>disbursed_amount</th>\n",
       "      <th>asset_cost</th>\n",
       "      <th>ltv</th>\n",
       "      <th>current_pincode_id</th>\n",
       "      <th>date.of.birth</th>\n",
       "      <th>employment.type</th>\n",
       "      <th>disbursaldate</th>\n",
       "      <th>aadhar_flag</th>\n",
       "      <th>perform_cns.score</th>\n",
       "      <th>...</th>\n",
       "      <th>primary.instal.amt</th>\n",
       "      <th>sec.instal.amt</th>\n",
       "      <th>new.accts.in.last.six.months</th>\n",
       "      <th>delinquent.accts.in.last.six.months</th>\n",
       "      <th>no.of_inquiries</th>\n",
       "      <th>loan_default</th>\n",
       "      <th>Year of birth</th>\n",
       "      <th>age</th>\n",
       "      <th>credit_hist_length</th>\n",
       "      <th>average_account_age</th>\n",
       "    </tr>\n",
       "  </thead>\n",
       "  <tbody>\n",
       "    <tr>\n",
       "      <th>0</th>\n",
       "      <td>420825</td>\n",
       "      <td>50578</td>\n",
       "      <td>58400</td>\n",
       "      <td>89.55</td>\n",
       "      <td>1441</td>\n",
       "      <td>01-01-84</td>\n",
       "      <td>Salaried</td>\n",
       "      <td>03-08-18</td>\n",
       "      <td>1</td>\n",
       "      <td>0</td>\n",
       "      <td>...</td>\n",
       "      <td>0</td>\n",
       "      <td>0</td>\n",
       "      <td>0</td>\n",
       "      <td>0</td>\n",
       "      <td>0</td>\n",
       "      <td>0</td>\n",
       "      <td>1984</td>\n",
       "      <td>35</td>\n",
       "      <td>0.00</td>\n",
       "      <td>0.00</td>\n",
       "    </tr>\n",
       "    <tr>\n",
       "      <th>1</th>\n",
       "      <td>537409</td>\n",
       "      <td>47145</td>\n",
       "      <td>65550</td>\n",
       "      <td>73.23</td>\n",
       "      <td>1502</td>\n",
       "      <td>31-07-85</td>\n",
       "      <td>Self employed</td>\n",
       "      <td>26-09-18</td>\n",
       "      <td>1</td>\n",
       "      <td>598</td>\n",
       "      <td>...</td>\n",
       "      <td>1991</td>\n",
       "      <td>0</td>\n",
       "      <td>0</td>\n",
       "      <td>1</td>\n",
       "      <td>0</td>\n",
       "      <td>1</td>\n",
       "      <td>1985</td>\n",
       "      <td>34</td>\n",
       "      <td>1.11</td>\n",
       "      <td>1.11</td>\n",
       "    </tr>\n",
       "    <tr>\n",
       "      <th>2</th>\n",
       "      <td>417566</td>\n",
       "      <td>53278</td>\n",
       "      <td>61360</td>\n",
       "      <td>89.63</td>\n",
       "      <td>1497</td>\n",
       "      <td>24-08-85</td>\n",
       "      <td>Self employed</td>\n",
       "      <td>01-08-18</td>\n",
       "      <td>1</td>\n",
       "      <td>0</td>\n",
       "      <td>...</td>\n",
       "      <td>0</td>\n",
       "      <td>0</td>\n",
       "      <td>0</td>\n",
       "      <td>0</td>\n",
       "      <td>0</td>\n",
       "      <td>0</td>\n",
       "      <td>1985</td>\n",
       "      <td>34</td>\n",
       "      <td>0.00</td>\n",
       "      <td>0.00</td>\n",
       "    </tr>\n",
       "    <tr>\n",
       "      <th>3</th>\n",
       "      <td>624493</td>\n",
       "      <td>57513</td>\n",
       "      <td>66113</td>\n",
       "      <td>88.48</td>\n",
       "      <td>1501</td>\n",
       "      <td>30-12-93</td>\n",
       "      <td>Self employed</td>\n",
       "      <td>26-10-18</td>\n",
       "      <td>1</td>\n",
       "      <td>305</td>\n",
       "      <td>...</td>\n",
       "      <td>31</td>\n",
       "      <td>0</td>\n",
       "      <td>0</td>\n",
       "      <td>0</td>\n",
       "      <td>1</td>\n",
       "      <td>1</td>\n",
       "      <td>1993</td>\n",
       "      <td>26</td>\n",
       "      <td>1.30</td>\n",
       "      <td>0.80</td>\n",
       "    </tr>\n",
       "    <tr>\n",
       "      <th>4</th>\n",
       "      <td>539055</td>\n",
       "      <td>52378</td>\n",
       "      <td>60300</td>\n",
       "      <td>88.39</td>\n",
       "      <td>1495</td>\n",
       "      <td>09-12-77</td>\n",
       "      <td>Self employed</td>\n",
       "      <td>26-09-18</td>\n",
       "      <td>1</td>\n",
       "      <td>0</td>\n",
       "      <td>...</td>\n",
       "      <td>0</td>\n",
       "      <td>0</td>\n",
       "      <td>0</td>\n",
       "      <td>0</td>\n",
       "      <td>1</td>\n",
       "      <td>1</td>\n",
       "      <td>1977</td>\n",
       "      <td>42</td>\n",
       "      <td>0.00</td>\n",
       "      <td>0.00</td>\n",
       "    </tr>\n",
       "  </tbody>\n",
       "</table>\n",
       "<p>5 rows × 33 columns</p>\n",
       "</div>"
      ],
      "text/plain": [
       "   uniqueid  disbursed_amount  asset_cost    ltv  current_pincode_id  \\\n",
       "0    420825             50578       58400  89.55                1441   \n",
       "1    537409             47145       65550  73.23                1502   \n",
       "2    417566             53278       61360  89.63                1497   \n",
       "3    624493             57513       66113  88.48                1501   \n",
       "4    539055             52378       60300  88.39                1495   \n",
       "\n",
       "  date.of.birth employment.type disbursaldate  aadhar_flag  perform_cns.score  \\\n",
       "0      01-01-84        Salaried      03-08-18            1                  0   \n",
       "1      31-07-85   Self employed      26-09-18            1                598   \n",
       "2      24-08-85   Self employed      01-08-18            1                  0   \n",
       "3      30-12-93   Self employed      26-10-18            1                305   \n",
       "4      09-12-77   Self employed      26-09-18            1                  0   \n",
       "\n",
       "   ... primary.instal.amt  sec.instal.amt  new.accts.in.last.six.months  \\\n",
       "0  ...                  0               0                             0   \n",
       "1  ...               1991               0                             0   \n",
       "2  ...                  0               0                             0   \n",
       "3  ...                 31               0                             0   \n",
       "4  ...                  0               0                             0   \n",
       "\n",
       "   delinquent.accts.in.last.six.months  no.of_inquiries  loan_default  \\\n",
       "0                                    0                0             0   \n",
       "1                                    1                0             1   \n",
       "2                                    0                0             0   \n",
       "3                                    0                1             1   \n",
       "4                                    0                1             1   \n",
       "\n",
       "   Year of birth  age  credit_hist_length  average_account_age  \n",
       "0           1984   35                0.00                 0.00  \n",
       "1           1985   34                1.11                 1.11  \n",
       "2           1985   34                0.00                 0.00  \n",
       "3           1993   26                1.30                 0.80  \n",
       "4           1977   42                0.00                 0.00  \n",
       "\n",
       "[5 rows x 33 columns]"
      ]
     },
     "execution_count": 24,
     "metadata": {},
     "output_type": "execute_result"
    }
   ],
   "source": [
    "df_default.head()"
   ]
  },
  {
   "cell_type": "markdown",
   "metadata": {},
   "source": [
    "##### Conversion of Some Columns to Category"
   ]
  },
  {
   "cell_type": "code",
   "execution_count": 25,
   "metadata": {
    "ExecuteTime": {
     "end_time": "2019-12-13T06:09:43.404815Z",
     "start_time": "2019-12-13T06:09:43.288481Z"
    }
   },
   "outputs": [],
   "source": [
    "df_default['loan_default'] = df_default['loan_default'].astype('category') \n",
    "df_default['employment.type'] =df_default['employment.type'].astype('category')\n"
   ]
  },
  {
   "cell_type": "code",
   "execution_count": 26,
   "metadata": {
    "ExecuteTime": {
     "end_time": "2019-12-13T06:09:43.748279Z",
     "start_time": "2019-12-13T06:09:43.409376Z"
    }
   },
   "outputs": [
    {
     "name": "stdout",
     "output_type": "stream",
     "text": [
      "<class 'pandas.core.frame.DataFrame'>\n",
      "RangeIndex: 233154 entries, 0 to 233153\n",
      "Data columns (total 33 columns):\n",
      "uniqueid                               233154 non-null int64\n",
      "disbursed_amount                       233154 non-null int64\n",
      "asset_cost                             233154 non-null int64\n",
      "ltv                                    233154 non-null float64\n",
      "current_pincode_id                     233154 non-null int64\n",
      "date.of.birth                          233154 non-null object\n",
      "employment.type                        233154 non-null category\n",
      "disbursaldate                          233154 non-null object\n",
      "aadhar_flag                            233154 non-null int64\n",
      "perform_cns.score                      233154 non-null int64\n",
      "perform_cns.score.description          233154 non-null object\n",
      "pri.no.of.accts                        233154 non-null int64\n",
      "pri.active.accts                       233154 non-null int64\n",
      "pri.overdue.accts                      233154 non-null int64\n",
      "pri.current.balance                    233154 non-null int64\n",
      "pri.sanctioned.amount                  233154 non-null int64\n",
      "pri.disbursed.amount                   233154 non-null int64\n",
      "sec.no.of.accts                        233154 non-null int64\n",
      "sec.active.accts                       233154 non-null int64\n",
      "sec.overdue.accts                      233154 non-null int64\n",
      "sec.current.balance                    233154 non-null int64\n",
      "sec.sanctioned.amount                  233154 non-null int64\n",
      "sec.disbursed.amount                   233154 non-null int64\n",
      "primary.instal.amt                     233154 non-null int64\n",
      "sec.instal.amt                         233154 non-null int64\n",
      "new.accts.in.last.six.months           233154 non-null int64\n",
      "delinquent.accts.in.last.six.months    233154 non-null int64\n",
      "no.of_inquiries                        233154 non-null int64\n",
      "loan_default                           233154 non-null category\n",
      "Year of birth                          233154 non-null int64\n",
      "age                                    233154 non-null int64\n",
      "credit_hist_length                     233154 non-null float64\n",
      "average_account_age                    233154 non-null float64\n",
      "dtypes: category(2), float64(3), int64(25), object(3)\n",
      "memory usage: 55.6+ MB\n"
     ]
    }
   ],
   "source": [
    "df_default.info()"
   ]
  },
  {
   "cell_type": "markdown",
   "metadata": {},
   "source": [
    "##### Encoding the Perform cns score distribution"
   ]
  },
  {
   "cell_type": "code",
   "execution_count": 28,
   "metadata": {
    "ExecuteTime": {
     "end_time": "2019-12-13T06:09:44.229741Z",
     "start_time": "2019-12-13T06:09:43.826425Z"
    }
   },
   "outputs": [],
   "source": [
    "df_default['perform_cns.score.description'] = df_default['perform_cns.score.description'].replace('No Bureau History Available', \"no history\")\n",
    "df_default['perform_cns.score.description'] = df_default['perform_cns.score.description'].replace('Not Scored: Sufficient History Not Available', \"no history\")\n",
    "df_default['perform_cns.score.description'] = df_default['perform_cns.score.description'].replace('Not Scored: Not Enough Info available on the customer', \"no history\")\n",
    "df_default['perform_cns.score.description'] = df_default['perform_cns.score.description'].replace('Not Scored: No Activity seen on the customer (Inactive)','no history')\n",
    "df_default['perform_cns.score.description'] = df_default['perform_cns.score.description'].replace('Not Scored: No Updates available in last 36 months', 'no history')\n",
    "df_default['perform_cns.score.description'] = df_default['perform_cns.score.description'].replace('Not Scored: Only a Guarantor', 'no history')\n",
    "df_default['perform_cns.score.description'] = df_default['perform_cns.score.description'].replace('Not Scored: More than 50 active Accounts found','no history')\n",
    "df_default['perform_cns.score.description'] = df_default['perform_cns.score.description'].replace('M-Very High Risk', 'vhigh')\n",
    "df_default['perform_cns.score.description'] = df_default['perform_cns.score.description'].replace('L-Very High Risk', 'vhigh')\n",
    "df_default['perform_cns.score.description'] = df_default['perform_cns.score.description'].replace('K-High Risk', 'high')\n",
    "df_default['perform_cns.score.description'] = df_default['perform_cns.score.description'].replace('J-High Risk', 'high')\n",
    "df_default['perform_cns.score.description'] = df_default['perform_cns.score.description'].replace('I-Medium Risk', 'medium')\n",
    "df_default['perform_cns.score.description'] = df_default['perform_cns.score.description'].replace('H-Medium Risk', 'medium')\n",
    "df_default['perform_cns.score.description'] = df_default['perform_cns.score.description'].replace('G-Low Risk', 'low')\n",
    "df_default['perform_cns.score.description'] = df_default['perform_cns.score.description'].replace('F-Low Risk', 'low')\n",
    "df_default['perform_cns.score.description'] = df_default['perform_cns.score.description'].replace('E-Low Risk', 'low')\n",
    "df_default['perform_cns.score.description'] = df_default['perform_cns.score.description'].replace('D-Very Low Risk', 'vlow')\n",
    "df_default['perform_cns.score.description'] = df_default['perform_cns.score.description'].replace('C-Very Low Risk', 'vlow')\n",
    "df_default['perform_cns.score.description'] = df_default['perform_cns.score.description'].replace('B-Very Low Risk', 'vlow')\n",
    "df_default['perform_cns.score.description'] = df_default['perform_cns.score.description'].replace('A-Very Low Risk', 'vlow')\n"
   ]
  },
  {
   "cell_type": "code",
   "execution_count": 27,
   "metadata": {
    "ExecuteTime": {
     "end_time": "2019-12-13T06:09:43.822288Z",
     "start_time": "2019-12-13T06:09:43.751272Z"
    }
   },
   "outputs": [
    {
     "data": {
      "text/plain": [
       "No Bureau History Available                                116950\n",
       "C-Very Low Risk                                             16045\n",
       "A-Very Low Risk                                             14124\n",
       "D-Very Low Risk                                             11358\n",
       "B-Very Low Risk                                              9201\n",
       "M-Very High Risk                                             8776\n",
       "F-Low Risk                                                   8485\n",
       "K-High Risk                                                  8277\n",
       "H-Medium Risk                                                6855\n",
       "E-Low Risk                                                   5821\n",
       "I-Medium Risk                                                5557\n",
       "G-Low Risk                                                   3988\n",
       "Not Scored: Sufficient History Not Available                 3765\n",
       "J-High Risk                                                  3748\n",
       "Not Scored: Not Enough Info available on the customer        3672\n",
       "Not Scored: No Activity seen on the customer (Inactive)      2885\n",
       "Not Scored: No Updates available in last 36 months           1534\n",
       "L-Very High Risk                                             1134\n",
       "Not Scored: Only a Guarantor                                  976\n",
       "Not Scored: More than 50 active Accounts found                  3\n",
       "Name: perform_cns.score.description, dtype: int64"
      ]
     },
     "execution_count": 27,
     "metadata": {},
     "output_type": "execute_result"
    }
   ],
   "source": [
    "df_default['perform_cns.score.description'].value_counts()"
   ]
  },
  {
   "cell_type": "markdown",
   "metadata": {},
   "source": [
    "#####  Checking for Duplicates"
   ]
  },
  {
   "cell_type": "code",
   "execution_count": 29,
   "metadata": {
    "ExecuteTime": {
     "end_time": "2019-12-13T06:09:44.395150Z",
     "start_time": "2019-12-13T06:09:44.232703Z"
    }
   },
   "outputs": [
    {
     "data": {
      "text/plain": [
       "(233154, 33)"
      ]
     },
     "execution_count": 29,
     "metadata": {},
     "output_type": "execute_result"
    }
   ],
   "source": [
    "# Drop the duplicateds\n",
    "df_default.drop_duplicates(subset='uniqueid',keep='first', inplace=True)\n",
    "\n",
    "#Check the final count\n",
    "df_default.shape"
   ]
  },
  {
   "cell_type": "markdown",
   "metadata": {},
   "source": [
    "There are no duplicates in the dataset."
   ]
  },
  {
   "cell_type": "code",
   "execution_count": 30,
   "metadata": {
    "ExecuteTime": {
     "end_time": "2019-12-13T06:09:44.402130Z",
     "start_time": "2019-12-13T06:09:44.398107Z"
    }
   },
   "outputs": [],
   "source": [
    "# Extract new csv file\n",
    "#df_default.to_csv(\"Loanclean.csv\")"
   ]
  },
  {
   "cell_type": "markdown",
   "metadata": {},
   "source": [
    "#### Load New"
   ]
  },
  {
   "cell_type": "code",
   "execution_count": 31,
   "metadata": {
    "ExecuteTime": {
     "end_time": "2019-12-13T06:09:44.411799Z",
     "start_time": "2019-12-13T06:09:44.406089Z"
    }
   },
   "outputs": [],
   "source": [
    "os.chdir(r'C:\\Users\\akhur\\Desktop\\DAV Project\\Dataset')"
   ]
  },
  {
   "cell_type": "code",
   "execution_count": 32,
   "metadata": {
    "ExecuteTime": {
     "end_time": "2019-12-13T06:09:46.259829Z",
     "start_time": "2019-12-13T06:09:44.416158Z"
    }
   },
   "outputs": [],
   "source": [
    "df_loan = pd.read_csv(\"Dataloan.csv\")"
   ]
  },
  {
   "cell_type": "markdown",
   "metadata": {},
   "source": [
    "# Data Exploration"
   ]
  },
  {
   "cell_type": "markdown",
   "metadata": {},
   "source": [
    "#### Descriptive Analytics"
   ]
  },
  {
   "cell_type": "code",
   "execution_count": 33,
   "metadata": {
    "ExecuteTime": {
     "end_time": "2019-12-13T06:09:46.591284Z",
     "start_time": "2019-12-13T06:09:46.263854Z"
    }
   },
   "outputs": [
    {
     "name": "stdout",
     "output_type": "stream",
     "text": [
      "<class 'pandas.core.frame.DataFrame'>\n",
      "RangeIndex: 233154 entries, 0 to 233153\n",
      "Data columns (total 34 columns):\n",
      "Unnamed: 0                             233154 non-null int64\n",
      "uniqueid                               233154 non-null int64\n",
      "disbursed_amount                       233154 non-null int64\n",
      "asset_cost                             233154 non-null int64\n",
      "ltv                                    233154 non-null float64\n",
      "current_pincode_id                     233154 non-null int64\n",
      "date.of.birth                          233154 non-null object\n",
      "employment.type                        233154 non-null object\n",
      "disbursaldate                          233154 non-null object\n",
      "aadhar_flag                            233154 non-null int64\n",
      "perform_cns.score                      233154 non-null int64\n",
      "perform_cns.score.description          233154 non-null object\n",
      "pri.no.of.accts                        233154 non-null int64\n",
      "pri.active.accts                       233154 non-null int64\n",
      "pri.overdue.accts                      233154 non-null int64\n",
      "pri.current.balance                    233154 non-null int64\n",
      "pri.sanctioned.amount                  233154 non-null int64\n",
      "pri.disbursed.amount                   233154 non-null int64\n",
      "sec.no.of.accts                        233154 non-null int64\n",
      "sec.active.accts                       233154 non-null int64\n",
      "sec.overdue.accts                      233154 non-null int64\n",
      "sec.current.balance                    233154 non-null int64\n",
      "sec.sanctioned.amount                  233154 non-null int64\n",
      "sec.disbursed.amount                   233154 non-null int64\n",
      "primary.instal.amt                     233154 non-null int64\n",
      "sec.instal.amt                         233154 non-null int64\n",
      "new.accts.in.last.six.months           233154 non-null int64\n",
      "delinquent.accts.in.last.six.months    233154 non-null int64\n",
      "no.of_inquiries                        233154 non-null int64\n",
      "loan_default                           233154 non-null int64\n",
      "Year of birth                          233154 non-null int64\n",
      "age                                    233154 non-null int64\n",
      "credit_hist_length                     233154 non-null float64\n",
      "average_account_age                    233154 non-null float64\n",
      "dtypes: float64(3), int64(27), object(4)\n",
      "memory usage: 60.5+ MB\n"
     ]
    }
   ],
   "source": [
    "df_loan.info()"
   ]
  },
  {
   "cell_type": "code",
   "execution_count": 34,
   "metadata": {
    "ExecuteTime": {
     "end_time": "2019-12-13T06:09:46.678921Z",
     "start_time": "2019-12-13T06:09:46.595242Z"
    }
   },
   "outputs": [],
   "source": [
    "# drop the unnamed column\n",
    "df_loan = df_loan.drop(columns=[\"Unnamed: 0\"])"
   ]
  },
  {
   "cell_type": "code",
   "execution_count": 35,
   "metadata": {
    "ExecuteTime": {
     "end_time": "2019-12-13T06:09:47.688934Z",
     "start_time": "2019-12-13T06:09:46.683260Z"
    },
    "collapsed": true
   },
   "outputs": [
    {
     "data": {
      "text/html": [
       "<div>\n",
       "<style scoped>\n",
       "    .dataframe tbody tr th:only-of-type {\n",
       "        vertical-align: middle;\n",
       "    }\n",
       "\n",
       "    .dataframe tbody tr th {\n",
       "        vertical-align: top;\n",
       "    }\n",
       "\n",
       "    .dataframe thead th {\n",
       "        text-align: right;\n",
       "    }\n",
       "</style>\n",
       "<table border=\"1\" class=\"dataframe\">\n",
       "  <thead>\n",
       "    <tr style=\"text-align: right;\">\n",
       "      <th></th>\n",
       "      <th>uniqueid</th>\n",
       "      <th>disbursed_amount</th>\n",
       "      <th>asset_cost</th>\n",
       "      <th>ltv</th>\n",
       "      <th>current_pincode_id</th>\n",
       "      <th>aadhar_flag</th>\n",
       "      <th>perform_cns.score</th>\n",
       "      <th>pri.no.of.accts</th>\n",
       "      <th>pri.active.accts</th>\n",
       "      <th>pri.overdue.accts</th>\n",
       "      <th>...</th>\n",
       "      <th>primary.instal.amt</th>\n",
       "      <th>sec.instal.amt</th>\n",
       "      <th>new.accts.in.last.six.months</th>\n",
       "      <th>delinquent.accts.in.last.six.months</th>\n",
       "      <th>no.of_inquiries</th>\n",
       "      <th>loan_default</th>\n",
       "      <th>Year of birth</th>\n",
       "      <th>age</th>\n",
       "      <th>credit_hist_length</th>\n",
       "      <th>average_account_age</th>\n",
       "    </tr>\n",
       "  </thead>\n",
       "  <tbody>\n",
       "    <tr>\n",
       "      <th>count</th>\n",
       "      <td>233154.000000</td>\n",
       "      <td>233154.000000</td>\n",
       "      <td>2.331540e+05</td>\n",
       "      <td>233154.000000</td>\n",
       "      <td>233154.000000</td>\n",
       "      <td>233154.00000</td>\n",
       "      <td>233154.000000</td>\n",
       "      <td>233154.000000</td>\n",
       "      <td>233154.000000</td>\n",
       "      <td>233154.000000</td>\n",
       "      <td>...</td>\n",
       "      <td>2.331540e+05</td>\n",
       "      <td>2.331540e+05</td>\n",
       "      <td>233154.000000</td>\n",
       "      <td>233154.000000</td>\n",
       "      <td>233154.000000</td>\n",
       "      <td>233154.000000</td>\n",
       "      <td>233154.000000</td>\n",
       "      <td>233154.000000</td>\n",
       "      <td>233154.000000</td>\n",
       "      <td>233154.000000</td>\n",
       "    </tr>\n",
       "    <tr>\n",
       "      <th>mean</th>\n",
       "      <td>535917.573376</td>\n",
       "      <td>54356.993528</td>\n",
       "      <td>7.586507e+04</td>\n",
       "      <td>74.746530</td>\n",
       "      <td>3396.880247</td>\n",
       "      <td>0.84032</td>\n",
       "      <td>289.462994</td>\n",
       "      <td>2.440636</td>\n",
       "      <td>1.039896</td>\n",
       "      <td>0.156549</td>\n",
       "      <td>...</td>\n",
       "      <td>1.310548e+04</td>\n",
       "      <td>3.232684e+02</td>\n",
       "      <td>0.381833</td>\n",
       "      <td>0.097481</td>\n",
       "      <td>0.206615</td>\n",
       "      <td>0.217071</td>\n",
       "      <td>1983.899054</td>\n",
       "      <td>35.100946</td>\n",
       "      <td>1.327379</td>\n",
       "      <td>0.715615</td>\n",
       "    </tr>\n",
       "    <tr>\n",
       "      <th>std</th>\n",
       "      <td>68315.693711</td>\n",
       "      <td>12971.314171</td>\n",
       "      <td>1.894478e+04</td>\n",
       "      <td>11.456636</td>\n",
       "      <td>2238.147502</td>\n",
       "      <td>0.36631</td>\n",
       "      <td>338.374779</td>\n",
       "      <td>5.217233</td>\n",
       "      <td>1.941496</td>\n",
       "      <td>0.548787</td>\n",
       "      <td>...</td>\n",
       "      <td>1.513679e+05</td>\n",
       "      <td>1.555369e+04</td>\n",
       "      <td>0.955107</td>\n",
       "      <td>0.384439</td>\n",
       "      <td>0.706498</td>\n",
       "      <td>0.412252</td>\n",
       "      <td>9.805992</td>\n",
       "      <td>9.805992</td>\n",
       "      <td>2.367571</td>\n",
       "      <td>1.252152</td>\n",
       "    </tr>\n",
       "    <tr>\n",
       "      <th>min</th>\n",
       "      <td>417428.000000</td>\n",
       "      <td>13320.000000</td>\n",
       "      <td>3.700000e+04</td>\n",
       "      <td>10.030000</td>\n",
       "      <td>1.000000</td>\n",
       "      <td>0.00000</td>\n",
       "      <td>0.000000</td>\n",
       "      <td>0.000000</td>\n",
       "      <td>0.000000</td>\n",
       "      <td>0.000000</td>\n",
       "      <td>...</td>\n",
       "      <td>0.000000e+00</td>\n",
       "      <td>0.000000e+00</td>\n",
       "      <td>0.000000</td>\n",
       "      <td>0.000000</td>\n",
       "      <td>0.000000</td>\n",
       "      <td>0.000000</td>\n",
       "      <td>1949.000000</td>\n",
       "      <td>19.000000</td>\n",
       "      <td>0.000000</td>\n",
       "      <td>0.000000</td>\n",
       "    </tr>\n",
       "    <tr>\n",
       "      <th>25%</th>\n",
       "      <td>476786.250000</td>\n",
       "      <td>47145.000000</td>\n",
       "      <td>6.571700e+04</td>\n",
       "      <td>68.880000</td>\n",
       "      <td>1511.000000</td>\n",
       "      <td>1.00000</td>\n",
       "      <td>0.000000</td>\n",
       "      <td>0.000000</td>\n",
       "      <td>0.000000</td>\n",
       "      <td>0.000000</td>\n",
       "      <td>...</td>\n",
       "      <td>0.000000e+00</td>\n",
       "      <td>0.000000e+00</td>\n",
       "      <td>0.000000</td>\n",
       "      <td>0.000000</td>\n",
       "      <td>0.000000</td>\n",
       "      <td>0.000000</td>\n",
       "      <td>1977.000000</td>\n",
       "      <td>27.000000</td>\n",
       "      <td>0.000000</td>\n",
       "      <td>0.000000</td>\n",
       "    </tr>\n",
       "    <tr>\n",
       "      <th>50%</th>\n",
       "      <td>535978.500000</td>\n",
       "      <td>53803.000000</td>\n",
       "      <td>7.094600e+04</td>\n",
       "      <td>76.800000</td>\n",
       "      <td>2970.000000</td>\n",
       "      <td>1.00000</td>\n",
       "      <td>0.000000</td>\n",
       "      <td>0.000000</td>\n",
       "      <td>0.000000</td>\n",
       "      <td>0.000000</td>\n",
       "      <td>...</td>\n",
       "      <td>0.000000e+00</td>\n",
       "      <td>0.000000e+00</td>\n",
       "      <td>0.000000</td>\n",
       "      <td>0.000000</td>\n",
       "      <td>0.000000</td>\n",
       "      <td>0.000000</td>\n",
       "      <td>1986.000000</td>\n",
       "      <td>33.000000</td>\n",
       "      <td>0.000000</td>\n",
       "      <td>0.000000</td>\n",
       "    </tr>\n",
       "    <tr>\n",
       "      <th>75%</th>\n",
       "      <td>595039.750000</td>\n",
       "      <td>60413.000000</td>\n",
       "      <td>7.920175e+04</td>\n",
       "      <td>83.670000</td>\n",
       "      <td>5677.000000</td>\n",
       "      <td>1.00000</td>\n",
       "      <td>678.000000</td>\n",
       "      <td>3.000000</td>\n",
       "      <td>1.000000</td>\n",
       "      <td>0.000000</td>\n",
       "      <td>...</td>\n",
       "      <td>1.999000e+03</td>\n",
       "      <td>0.000000e+00</td>\n",
       "      <td>0.000000</td>\n",
       "      <td>0.000000</td>\n",
       "      <td>0.000000</td>\n",
       "      <td>0.000000</td>\n",
       "      <td>1992.000000</td>\n",
       "      <td>42.000000</td>\n",
       "      <td>2.000000</td>\n",
       "      <td>1.100000</td>\n",
       "    </tr>\n",
       "    <tr>\n",
       "      <th>max</th>\n",
       "      <td>671084.000000</td>\n",
       "      <td>990572.000000</td>\n",
       "      <td>1.628992e+06</td>\n",
       "      <td>95.000000</td>\n",
       "      <td>7345.000000</td>\n",
       "      <td>1.00000</td>\n",
       "      <td>890.000000</td>\n",
       "      <td>453.000000</td>\n",
       "      <td>144.000000</td>\n",
       "      <td>25.000000</td>\n",
       "      <td>...</td>\n",
       "      <td>2.564281e+07</td>\n",
       "      <td>4.170901e+06</td>\n",
       "      <td>35.000000</td>\n",
       "      <td>20.000000</td>\n",
       "      <td>36.000000</td>\n",
       "      <td>1.000000</td>\n",
       "      <td>2000.000000</td>\n",
       "      <td>70.000000</td>\n",
       "      <td>39.000000</td>\n",
       "      <td>30.900000</td>\n",
       "    </tr>\n",
       "  </tbody>\n",
       "</table>\n",
       "<p>8 rows × 29 columns</p>\n",
       "</div>"
      ],
      "text/plain": [
       "            uniqueid  disbursed_amount    asset_cost            ltv  \\\n",
       "count  233154.000000     233154.000000  2.331540e+05  233154.000000   \n",
       "mean   535917.573376      54356.993528  7.586507e+04      74.746530   \n",
       "std     68315.693711      12971.314171  1.894478e+04      11.456636   \n",
       "min    417428.000000      13320.000000  3.700000e+04      10.030000   \n",
       "25%    476786.250000      47145.000000  6.571700e+04      68.880000   \n",
       "50%    535978.500000      53803.000000  7.094600e+04      76.800000   \n",
       "75%    595039.750000      60413.000000  7.920175e+04      83.670000   \n",
       "max    671084.000000     990572.000000  1.628992e+06      95.000000   \n",
       "\n",
       "       current_pincode_id   aadhar_flag  perform_cns.score  pri.no.of.accts  \\\n",
       "count       233154.000000  233154.00000      233154.000000    233154.000000   \n",
       "mean          3396.880247       0.84032         289.462994         2.440636   \n",
       "std           2238.147502       0.36631         338.374779         5.217233   \n",
       "min              1.000000       0.00000           0.000000         0.000000   \n",
       "25%           1511.000000       1.00000           0.000000         0.000000   \n",
       "50%           2970.000000       1.00000           0.000000         0.000000   \n",
       "75%           5677.000000       1.00000         678.000000         3.000000   \n",
       "max           7345.000000       1.00000         890.000000       453.000000   \n",
       "\n",
       "       pri.active.accts  pri.overdue.accts  ...  primary.instal.amt  \\\n",
       "count     233154.000000      233154.000000  ...        2.331540e+05   \n",
       "mean           1.039896           0.156549  ...        1.310548e+04   \n",
       "std            1.941496           0.548787  ...        1.513679e+05   \n",
       "min            0.000000           0.000000  ...        0.000000e+00   \n",
       "25%            0.000000           0.000000  ...        0.000000e+00   \n",
       "50%            0.000000           0.000000  ...        0.000000e+00   \n",
       "75%            1.000000           0.000000  ...        1.999000e+03   \n",
       "max          144.000000          25.000000  ...        2.564281e+07   \n",
       "\n",
       "       sec.instal.amt  new.accts.in.last.six.months  \\\n",
       "count    2.331540e+05                 233154.000000   \n",
       "mean     3.232684e+02                      0.381833   \n",
       "std      1.555369e+04                      0.955107   \n",
       "min      0.000000e+00                      0.000000   \n",
       "25%      0.000000e+00                      0.000000   \n",
       "50%      0.000000e+00                      0.000000   \n",
       "75%      0.000000e+00                      0.000000   \n",
       "max      4.170901e+06                     35.000000   \n",
       "\n",
       "       delinquent.accts.in.last.six.months  no.of_inquiries   loan_default  \\\n",
       "count                        233154.000000    233154.000000  233154.000000   \n",
       "mean                              0.097481         0.206615       0.217071   \n",
       "std                               0.384439         0.706498       0.412252   \n",
       "min                               0.000000         0.000000       0.000000   \n",
       "25%                               0.000000         0.000000       0.000000   \n",
       "50%                               0.000000         0.000000       0.000000   \n",
       "75%                               0.000000         0.000000       0.000000   \n",
       "max                              20.000000        36.000000       1.000000   \n",
       "\n",
       "       Year of birth            age  credit_hist_length  average_account_age  \n",
       "count  233154.000000  233154.000000       233154.000000        233154.000000  \n",
       "mean     1983.899054      35.100946            1.327379             0.715615  \n",
       "std         9.805992       9.805992            2.367571             1.252152  \n",
       "min      1949.000000      19.000000            0.000000             0.000000  \n",
       "25%      1977.000000      27.000000            0.000000             0.000000  \n",
       "50%      1986.000000      33.000000            0.000000             0.000000  \n",
       "75%      1992.000000      42.000000            2.000000             1.100000  \n",
       "max      2000.000000      70.000000           39.000000            30.900000  \n",
       "\n",
       "[8 rows x 29 columns]"
      ]
     },
     "execution_count": 35,
     "metadata": {},
     "output_type": "execute_result"
    }
   ],
   "source": [
    "# describe the data\n",
    "df_loan.describe()"
   ]
  },
  {
   "cell_type": "code",
   "execution_count": 36,
   "metadata": {
    "ExecuteTime": {
     "end_time": "2019-12-13T06:09:48.137481Z",
     "start_time": "2019-12-13T06:09:47.698019Z"
    }
   },
   "outputs": [
    {
     "data": {
      "text/plain": [
       "<matplotlib.axes._subplots.AxesSubplot at 0x21c67f3b4e0>"
      ]
     },
     "execution_count": 36,
     "metadata": {},
     "output_type": "execute_result"
    },
    {
     "data": {
      "image/png": "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\n",
      "text/plain": [
       "<Figure size 432x288 with 1 Axes>"
      ]
     },
     "metadata": {
      "needs_background": "light"
     },
     "output_type": "display_data"
    }
   ],
   "source": [
    "sns.countplot(data=df_loan, x = \"loan_default\",saturation=1,edgecolor=(0,0,0))"
   ]
  },
  {
   "cell_type": "code",
   "execution_count": 37,
   "metadata": {
    "ExecuteTime": {
     "end_time": "2019-12-13T06:09:48.570153Z",
     "start_time": "2019-12-13T06:09:48.144367Z"
    }
   },
   "outputs": [
    {
     "data": {
      "text/plain": [
       "<matplotlib.axes._subplots.AxesSubplot at 0x21c67c6eb00>"
      ]
     },
     "execution_count": 37,
     "metadata": {},
     "output_type": "execute_result"
    },
    {
     "data": {
      "image/png": "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\n",
      "text/plain": [
       "<Figure size 432x288 with 1 Axes>"
      ]
     },
     "metadata": {
      "needs_background": "light"
     },
     "output_type": "display_data"
    }
   ],
   "source": [
    "sns.countplot(data=df_loan, x = \"employment.type\",saturation=1,edgecolor=(0,0,0))"
   ]
  },
  {
   "cell_type": "code",
   "execution_count": 38,
   "metadata": {
    "ExecuteTime": {
     "end_time": "2019-12-13T06:09:48.937336Z",
     "start_time": "2019-12-13T06:09:48.574709Z"
    }
   },
   "outputs": [
    {
     "data": {
      "text/plain": [
       "<matplotlib.axes._subplots.AxesSubplot at 0x21c67c006d8>"
      ]
     },
     "execution_count": 38,
     "metadata": {},
     "output_type": "execute_result"
    },
    {
     "data": {
      "image/png": "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\n",
      "text/plain": [
       "<Figure size 432x288 with 1 Axes>"
      ]
     },
     "metadata": {
      "needs_background": "light"
     },
     "output_type": "display_data"
    }
   ],
   "source": [
    "sns.countplot(data=df_loan, x = \"aadhar_flag\",saturation=1,edgecolor=(0,0,0))"
   ]
  },
  {
   "cell_type": "code",
   "execution_count": 39,
   "metadata": {
    "ExecuteTime": {
     "end_time": "2019-12-13T06:09:49.415325Z",
     "start_time": "2019-12-13T06:09:48.940544Z"
    }
   },
   "outputs": [
    {
     "data": {
      "text/plain": [
       "<matplotlib.axes._subplots.AxesSubplot at 0x21c67c67278>"
      ]
     },
     "execution_count": 39,
     "metadata": {},
     "output_type": "execute_result"
    },
    {
     "data": {
      "image/png": "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\n",
      "text/plain": [
       "<Figure size 432x288 with 1 Axes>"
      ]
     },
     "metadata": {
      "needs_background": "light"
     },
     "output_type": "display_data"
    }
   ],
   "source": [
    "sns.countplot(data=df_loan, x = \"perform_cns.score.description\",saturation=1,edgecolor=(0,0,0))"
   ]
  },
  {
   "cell_type": "code",
   "execution_count": 40,
   "metadata": {
    "ExecuteTime": {
     "end_time": "2019-12-13T06:09:50.652499Z",
     "start_time": "2019-12-13T06:09:49.419116Z"
    }
   },
   "outputs": [
    {
     "data": {
      "text/plain": [
       "[Text(0.5, 0, '')]"
      ]
     },
     "execution_count": 40,
     "metadata": {},
     "output_type": "execute_result"
    },
    {
     "data": {
      "image/png": "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\n",
      "text/plain": [
       "<Figure size 432x288 with 2 Axes>"
      ]
     },
     "metadata": {
      "needs_background": "light"
     },
     "output_type": "display_data"
    }
   ],
   "source": [
    "f, (ax_box, ax_hist) = plt.subplots(2, sharex=True, gridspec_kw={\"height_ratios\": (.15, .85)})\n",
    "sns.boxplot(df_loan[\"asset_cost\"], ax=ax_box)\n",
    "sns.distplot(df_loan[\"asset_cost\"], ax=ax_hist)\n",
    "ax_box.set(xlabel='')"
   ]
  },
  {
   "cell_type": "code",
   "execution_count": 41,
   "metadata": {
    "ExecuteTime": {
     "end_time": "2019-12-13T06:09:51.770356Z",
     "start_time": "2019-12-13T06:09:50.656546Z"
    }
   },
   "outputs": [
    {
     "data": {
      "text/plain": [
       "[Text(0.5, 0, 'disbursed_amount')]"
      ]
     },
     "execution_count": 41,
     "metadata": {},
     "output_type": "execute_result"
    },
    {
     "data": {
      "image/png": "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\n",
      "text/plain": [
       "<Figure size 432x288 with 2 Axes>"
      ]
     },
     "metadata": {
      "needs_background": "light"
     },
     "output_type": "display_data"
    }
   ],
   "source": [
    "f, (ax_box, ax_hist) = plt.subplots(2, sharex=True, gridspec_kw={\"height_ratios\": (.15, .85)})\n",
    "sns.boxplot(df_loan[\"disbursed_amount\"], ax=ax_box)\n",
    "sns.distplot(df_loan[\"disbursed_amount\"], ax=ax_hist)\n",
    "ax_box.set(xlabel='disbursed_amount')"
   ]
  },
  {
   "cell_type": "markdown",
   "metadata": {},
   "source": [
    "From the dataset we can see that the asset cost and disbursed amount is not normally distributed.We can try doing a data transformation for a normally distributed data set"
   ]
  },
  {
   "cell_type": "code",
   "execution_count": 42,
   "metadata": {
    "ExecuteTime": {
     "end_time": "2019-12-13T06:09:51.801677Z",
     "start_time": "2019-12-13T06:09:51.774309Z"
    }
   },
   "outputs": [],
   "source": [
    "df_log = np.log10(df_loan[['asset_cost','disbursed_amount']])"
   ]
  },
  {
   "cell_type": "code",
   "execution_count": 43,
   "metadata": {
    "ExecuteTime": {
     "end_time": "2019-12-13T06:09:52.463682Z",
     "start_time": "2019-12-13T06:09:51.804706Z"
    },
    "scrolled": true
   },
   "outputs": [
    {
     "data": {
      "text/plain": [
       "<matplotlib.axes._subplots.AxesSubplot at 0x21c5d712ac8>"
      ]
     },
     "execution_count": 43,
     "metadata": {},
     "output_type": "execute_result"
    },
    {
     "data": {
      "image/png": "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\n",
      "text/plain": [
       "<Figure size 432x288 with 1 Axes>"
      ]
     },
     "metadata": {
      "needs_background": "light"
     },
     "output_type": "display_data"
    }
   ],
   "source": [
    "sns.distplot(np.log10(df_log['disbursed_amount']),kde=True)"
   ]
  },
  {
   "cell_type": "code",
   "execution_count": 44,
   "metadata": {
    "ExecuteTime": {
     "end_time": "2019-12-13T06:09:53.135489Z",
     "start_time": "2019-12-13T06:09:52.469565Z"
    }
   },
   "outputs": [
    {
     "data": {
      "text/plain": [
       "<matplotlib.axes._subplots.AxesSubplot at 0x21c5e9f9ef0>"
      ]
     },
     "execution_count": 44,
     "metadata": {},
     "output_type": "execute_result"
    },
    {
     "data": {
      "image/png": "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\n",
      "text/plain": [
       "<Figure size 432x288 with 1 Axes>"
      ]
     },
     "metadata": {
      "needs_background": "light"
     },
     "output_type": "display_data"
    }
   ],
   "source": [
    "sns.distplot(np.log10(df_log['asset_cost']),kde=True)"
   ]
  },
  {
   "cell_type": "markdown",
   "metadata": {},
   "source": [
    "### Feature selection"
   ]
  },
  {
   "cell_type": "code",
   "execution_count": 45,
   "metadata": {
    "ExecuteTime": {
     "end_time": "2019-12-13T06:09:53.185343Z",
     "start_time": "2019-12-13T06:09:53.138445Z"
    }
   },
   "outputs": [
    {
     "data": {
      "text/html": [
       "<div>\n",
       "<style scoped>\n",
       "    .dataframe tbody tr th:only-of-type {\n",
       "        vertical-align: middle;\n",
       "    }\n",
       "\n",
       "    .dataframe tbody tr th {\n",
       "        vertical-align: top;\n",
       "    }\n",
       "\n",
       "    .dataframe thead th {\n",
       "        text-align: right;\n",
       "    }\n",
       "</style>\n",
       "<table border=\"1\" class=\"dataframe\">\n",
       "  <thead>\n",
       "    <tr style=\"text-align: right;\">\n",
       "      <th></th>\n",
       "      <th>uniqueid</th>\n",
       "      <th>disbursed_amount</th>\n",
       "      <th>asset_cost</th>\n",
       "      <th>ltv</th>\n",
       "      <th>current_pincode_id</th>\n",
       "      <th>date.of.birth</th>\n",
       "      <th>employment.type</th>\n",
       "      <th>disbursaldate</th>\n",
       "      <th>aadhar_flag</th>\n",
       "      <th>perform_cns.score</th>\n",
       "      <th>...</th>\n",
       "      <th>primary.instal.amt</th>\n",
       "      <th>sec.instal.amt</th>\n",
       "      <th>new.accts.in.last.six.months</th>\n",
       "      <th>delinquent.accts.in.last.six.months</th>\n",
       "      <th>no.of_inquiries</th>\n",
       "      <th>loan_default</th>\n",
       "      <th>Year of birth</th>\n",
       "      <th>age</th>\n",
       "      <th>credit_hist_length</th>\n",
       "      <th>average_account_age</th>\n",
       "    </tr>\n",
       "  </thead>\n",
       "  <tbody>\n",
       "    <tr>\n",
       "      <th>0</th>\n",
       "      <td>420825</td>\n",
       "      <td>50578</td>\n",
       "      <td>58400</td>\n",
       "      <td>89.55</td>\n",
       "      <td>1441</td>\n",
       "      <td>01-01-84</td>\n",
       "      <td>Salaried</td>\n",
       "      <td>03-08-18</td>\n",
       "      <td>1</td>\n",
       "      <td>0</td>\n",
       "      <td>...</td>\n",
       "      <td>0</td>\n",
       "      <td>0</td>\n",
       "      <td>0</td>\n",
       "      <td>0</td>\n",
       "      <td>0</td>\n",
       "      <td>0</td>\n",
       "      <td>1984</td>\n",
       "      <td>35</td>\n",
       "      <td>0.00</td>\n",
       "      <td>0.00</td>\n",
       "    </tr>\n",
       "    <tr>\n",
       "      <th>1</th>\n",
       "      <td>537409</td>\n",
       "      <td>47145</td>\n",
       "      <td>65550</td>\n",
       "      <td>73.23</td>\n",
       "      <td>1502</td>\n",
       "      <td>31-07-85</td>\n",
       "      <td>Self employed</td>\n",
       "      <td>26-09-18</td>\n",
       "      <td>1</td>\n",
       "      <td>598</td>\n",
       "      <td>...</td>\n",
       "      <td>1991</td>\n",
       "      <td>0</td>\n",
       "      <td>0</td>\n",
       "      <td>1</td>\n",
       "      <td>0</td>\n",
       "      <td>1</td>\n",
       "      <td>1985</td>\n",
       "      <td>34</td>\n",
       "      <td>1.11</td>\n",
       "      <td>1.11</td>\n",
       "    </tr>\n",
       "    <tr>\n",
       "      <th>2</th>\n",
       "      <td>417566</td>\n",
       "      <td>53278</td>\n",
       "      <td>61360</td>\n",
       "      <td>89.63</td>\n",
       "      <td>1497</td>\n",
       "      <td>24-08-85</td>\n",
       "      <td>Self employed</td>\n",
       "      <td>01-08-18</td>\n",
       "      <td>1</td>\n",
       "      <td>0</td>\n",
       "      <td>...</td>\n",
       "      <td>0</td>\n",
       "      <td>0</td>\n",
       "      <td>0</td>\n",
       "      <td>0</td>\n",
       "      <td>0</td>\n",
       "      <td>0</td>\n",
       "      <td>1985</td>\n",
       "      <td>34</td>\n",
       "      <td>0.00</td>\n",
       "      <td>0.00</td>\n",
       "    </tr>\n",
       "    <tr>\n",
       "      <th>3</th>\n",
       "      <td>624493</td>\n",
       "      <td>57513</td>\n",
       "      <td>66113</td>\n",
       "      <td>88.48</td>\n",
       "      <td>1501</td>\n",
       "      <td>30-12-93</td>\n",
       "      <td>Self employed</td>\n",
       "      <td>26-10-18</td>\n",
       "      <td>1</td>\n",
       "      <td>305</td>\n",
       "      <td>...</td>\n",
       "      <td>31</td>\n",
       "      <td>0</td>\n",
       "      <td>0</td>\n",
       "      <td>0</td>\n",
       "      <td>1</td>\n",
       "      <td>1</td>\n",
       "      <td>1993</td>\n",
       "      <td>26</td>\n",
       "      <td>1.30</td>\n",
       "      <td>0.80</td>\n",
       "    </tr>\n",
       "    <tr>\n",
       "      <th>4</th>\n",
       "      <td>539055</td>\n",
       "      <td>52378</td>\n",
       "      <td>60300</td>\n",
       "      <td>88.39</td>\n",
       "      <td>1495</td>\n",
       "      <td>09-12-77</td>\n",
       "      <td>Self employed</td>\n",
       "      <td>26-09-18</td>\n",
       "      <td>1</td>\n",
       "      <td>0</td>\n",
       "      <td>...</td>\n",
       "      <td>0</td>\n",
       "      <td>0</td>\n",
       "      <td>0</td>\n",
       "      <td>0</td>\n",
       "      <td>1</td>\n",
       "      <td>1</td>\n",
       "      <td>1977</td>\n",
       "      <td>42</td>\n",
       "      <td>0.00</td>\n",
       "      <td>0.00</td>\n",
       "    </tr>\n",
       "  </tbody>\n",
       "</table>\n",
       "<p>5 rows × 33 columns</p>\n",
       "</div>"
      ],
      "text/plain": [
       "   uniqueid  disbursed_amount  asset_cost    ltv  current_pincode_id  \\\n",
       "0    420825             50578       58400  89.55                1441   \n",
       "1    537409             47145       65550  73.23                1502   \n",
       "2    417566             53278       61360  89.63                1497   \n",
       "3    624493             57513       66113  88.48                1501   \n",
       "4    539055             52378       60300  88.39                1495   \n",
       "\n",
       "  date.of.birth employment.type disbursaldate  aadhar_flag  perform_cns.score  \\\n",
       "0      01-01-84        Salaried      03-08-18            1                  0   \n",
       "1      31-07-85   Self employed      26-09-18            1                598   \n",
       "2      24-08-85   Self employed      01-08-18            1                  0   \n",
       "3      30-12-93   Self employed      26-10-18            1                305   \n",
       "4      09-12-77   Self employed      26-09-18            1                  0   \n",
       "\n",
       "   ... primary.instal.amt  sec.instal.amt  new.accts.in.last.six.months  \\\n",
       "0  ...                  0               0                             0   \n",
       "1  ...               1991               0                             0   \n",
       "2  ...                  0               0                             0   \n",
       "3  ...                 31               0                             0   \n",
       "4  ...                  0               0                             0   \n",
       "\n",
       "   delinquent.accts.in.last.six.months  no.of_inquiries  loan_default  \\\n",
       "0                                    0                0             0   \n",
       "1                                    1                0             1   \n",
       "2                                    0                0             0   \n",
       "3                                    0                1             1   \n",
       "4                                    0                1             1   \n",
       "\n",
       "   Year of birth  age  credit_hist_length  average_account_age  \n",
       "0           1984   35                0.00                 0.00  \n",
       "1           1985   34                1.11                 1.11  \n",
       "2           1985   34                0.00                 0.00  \n",
       "3           1993   26                1.30                 0.80  \n",
       "4           1977   42                0.00                 0.00  \n",
       "\n",
       "[5 rows x 33 columns]"
      ]
     },
     "execution_count": 45,
     "metadata": {},
     "output_type": "execute_result"
    }
   ],
   "source": [
    "df_loan.head()"
   ]
  },
  {
   "cell_type": "code",
   "execution_count": 46,
   "metadata": {
    "ExecuteTime": {
     "end_time": "2019-12-13T06:09:53.339606Z",
     "start_time": "2019-12-13T06:09:53.188395Z"
    }
   },
   "outputs": [],
   "source": [
    "df_loan[['asset_cost','disbursed_amount']] = np.log10(df_loan[['asset_cost','disbursed_amount']])"
   ]
  },
  {
   "cell_type": "markdown",
   "metadata": {},
   "source": [
    "## Feature Selection"
   ]
  },
  {
   "cell_type": "code",
   "execution_count": 47,
   "metadata": {
    "ExecuteTime": {
     "end_time": "2019-12-13T06:09:53.555343Z",
     "start_time": "2019-12-13T06:09:53.343852Z"
    }
   },
   "outputs": [],
   "source": [
    "df_loan2 = df_loan\n",
    "indexNames = df_loan2[df_loan2['employment.type'] == 'unemployed'].index#dropping the na values converted as unemployed\n",
    "df_loan2.drop(indexNames , inplace=True)"
   ]
  },
  {
   "cell_type": "code",
   "execution_count": 48,
   "metadata": {
    "ExecuteTime": {
     "end_time": "2019-12-13T06:09:53.608970Z",
     "start_time": "2019-12-13T06:09:53.564698Z"
    }
   },
   "outputs": [
    {
     "data": {
      "text/plain": [
       "array(['Salaried', 'Self employed'], dtype=object)"
      ]
     },
     "execution_count": 48,
     "metadata": {},
     "output_type": "execute_result"
    }
   ],
   "source": [
    "df_loan2['employment.type'].unique()"
   ]
  },
  {
   "cell_type": "code",
   "execution_count": 49,
   "metadata": {
    "ExecuteTime": {
     "end_time": "2019-12-13T06:09:53.625072Z",
     "start_time": "2019-12-13T06:09:53.614991Z"
    }
   },
   "outputs": [
    {
     "data": {
      "text/plain": [
       "pandas.core.frame.DataFrame"
      ]
     },
     "execution_count": 49,
     "metadata": {},
     "output_type": "execute_result"
    }
   ],
   "source": [
    "type(df_loan2)"
   ]
  },
  {
   "cell_type": "code",
   "execution_count": 50,
   "metadata": {
    "ExecuteTime": {
     "end_time": "2019-12-13T06:09:53.996489Z",
     "start_time": "2019-12-13T06:09:53.630775Z"
    }
   },
   "outputs": [
    {
     "name": "stdout",
     "output_type": "stream",
     "text": [
      "<class 'pandas.core.frame.DataFrame'>\n",
      "Int64Index: 225493 entries, 0 to 233153\n",
      "Data columns (total 33 columns):\n",
      "uniqueid                               225493 non-null int64\n",
      "disbursed_amount                       225493 non-null float64\n",
      "asset_cost                             225493 non-null float64\n",
      "ltv                                    225493 non-null float64\n",
      "current_pincode_id                     225493 non-null int64\n",
      "date.of.birth                          225493 non-null object\n",
      "employment.type                        225493 non-null object\n",
      "disbursaldate                          225493 non-null object\n",
      "aadhar_flag                            225493 non-null int64\n",
      "perform_cns.score                      225493 non-null int64\n",
      "perform_cns.score.description          225493 non-null object\n",
      "pri.no.of.accts                        225493 non-null int64\n",
      "pri.active.accts                       225493 non-null int64\n",
      "pri.overdue.accts                      225493 non-null int64\n",
      "pri.current.balance                    225493 non-null int64\n",
      "pri.sanctioned.amount                  225493 non-null int64\n",
      "pri.disbursed.amount                   225493 non-null int64\n",
      "sec.no.of.accts                        225493 non-null int64\n",
      "sec.active.accts                       225493 non-null int64\n",
      "sec.overdue.accts                      225493 non-null int64\n",
      "sec.current.balance                    225493 non-null int64\n",
      "sec.sanctioned.amount                  225493 non-null int64\n",
      "sec.disbursed.amount                   225493 non-null int64\n",
      "primary.instal.amt                     225493 non-null int64\n",
      "sec.instal.amt                         225493 non-null int64\n",
      "new.accts.in.last.six.months           225493 non-null int64\n",
      "delinquent.accts.in.last.six.months    225493 non-null int64\n",
      "no.of_inquiries                        225493 non-null int64\n",
      "loan_default                           225493 non-null int64\n",
      "Year of birth                          225493 non-null int64\n",
      "age                                    225493 non-null int64\n",
      "credit_hist_length                     225493 non-null float64\n",
      "average_account_age                    225493 non-null float64\n",
      "dtypes: float64(5), int64(24), object(4)\n",
      "memory usage: 58.5+ MB\n"
     ]
    }
   ],
   "source": [
    "df_loan2.info()"
   ]
  },
  {
   "cell_type": "code",
   "execution_count": 51,
   "metadata": {
    "ExecuteTime": {
     "end_time": "2019-12-13T06:09:54.069063Z",
     "start_time": "2019-12-13T06:09:54.001604Z"
    }
   },
   "outputs": [],
   "source": [
    "df_loan2 = df_loan2.drop(columns = ['date.of.birth','disbursaldate','perform_cns.score.description'])#age and date values"
   ]
  },
  {
   "cell_type": "code",
   "execution_count": 52,
   "metadata": {
    "ExecuteTime": {
     "end_time": "2019-12-13T06:09:57.161193Z",
     "start_time": "2019-12-13T06:09:57.025482Z"
    }
   },
   "outputs": [],
   "source": [
    "df_loan2['employment.type'] = df_loan2['employment.type'].replace('Salaried',1)\n",
    "df_loan2['employment.type'] = df_loan2['employment.type'].replace('Self employed',0)"
   ]
  },
  {
   "cell_type": "code",
   "execution_count": 53,
   "metadata": {
    "ExecuteTime": {
     "end_time": "2019-12-13T06:10:00.081413Z",
     "start_time": "2019-12-13T06:09:59.124445Z"
    }
   },
   "outputs": [
    {
     "data": {
      "text/html": [
       "<div>\n",
       "<style scoped>\n",
       "    .dataframe tbody tr th:only-of-type {\n",
       "        vertical-align: middle;\n",
       "    }\n",
       "\n",
       "    .dataframe tbody tr th {\n",
       "        vertical-align: top;\n",
       "    }\n",
       "\n",
       "    .dataframe thead th {\n",
       "        text-align: right;\n",
       "    }\n",
       "</style>\n",
       "<table border=\"1\" class=\"dataframe\">\n",
       "  <thead>\n",
       "    <tr style=\"text-align: right;\">\n",
       "      <th></th>\n",
       "      <th>uniqueid</th>\n",
       "      <th>disbursed_amount</th>\n",
       "      <th>asset_cost</th>\n",
       "      <th>ltv</th>\n",
       "      <th>current_pincode_id</th>\n",
       "      <th>employment.type</th>\n",
       "      <th>aadhar_flag</th>\n",
       "      <th>perform_cns.score</th>\n",
       "      <th>pri.no.of.accts</th>\n",
       "      <th>pri.active.accts</th>\n",
       "      <th>...</th>\n",
       "      <th>primary.instal.amt</th>\n",
       "      <th>sec.instal.amt</th>\n",
       "      <th>new.accts.in.last.six.months</th>\n",
       "      <th>delinquent.accts.in.last.six.months</th>\n",
       "      <th>no.of_inquiries</th>\n",
       "      <th>loan_default</th>\n",
       "      <th>Year of birth</th>\n",
       "      <th>age</th>\n",
       "      <th>credit_hist_length</th>\n",
       "      <th>average_account_age</th>\n",
       "    </tr>\n",
       "  </thead>\n",
       "  <tbody>\n",
       "    <tr>\n",
       "      <th>count</th>\n",
       "      <td>225493.000000</td>\n",
       "      <td>225493.000000</td>\n",
       "      <td>225493.000000</td>\n",
       "      <td>225493.000000</td>\n",
       "      <td>225493.000000</td>\n",
       "      <td>225493.000000</td>\n",
       "      <td>225493.000000</td>\n",
       "      <td>225493.000000</td>\n",
       "      <td>225493.000000</td>\n",
       "      <td>225493.000000</td>\n",
       "      <td>...</td>\n",
       "      <td>2.254930e+05</td>\n",
       "      <td>2.254930e+05</td>\n",
       "      <td>225493.000000</td>\n",
       "      <td>225493.000000</td>\n",
       "      <td>225493.000000</td>\n",
       "      <td>225493.000000</td>\n",
       "      <td>225493.000000</td>\n",
       "      <td>225493.000000</td>\n",
       "      <td>225493.000000</td>\n",
       "      <td>225493.000000</td>\n",
       "    </tr>\n",
       "    <tr>\n",
       "      <th>mean</th>\n",
       "      <td>535677.453783</td>\n",
       "      <td>4.722708</td>\n",
       "      <td>4.868623</td>\n",
       "      <td>74.806634</td>\n",
       "      <td>3375.718133</td>\n",
       "      <td>0.433974</td>\n",
       "      <td>0.837720</td>\n",
       "      <td>293.040449</td>\n",
       "      <td>2.462360</td>\n",
       "      <td>1.053767</td>\n",
       "      <td>...</td>\n",
       "      <td>1.299246e+04</td>\n",
       "      <td>3.256845e+02</td>\n",
       "      <td>0.386602</td>\n",
       "      <td>0.098708</td>\n",
       "      <td>0.208845</td>\n",
       "      <td>0.217155</td>\n",
       "      <td>1983.551991</td>\n",
       "      <td>35.448009</td>\n",
       "      <td>1.343675</td>\n",
       "      <td>0.724761</td>\n",
       "    </tr>\n",
       "    <tr>\n",
       "      <th>std</th>\n",
       "      <td>68337.222749</td>\n",
       "      <td>0.101755</td>\n",
       "      <td>0.089162</td>\n",
       "      <td>11.441890</td>\n",
       "      <td>2253.216519</td>\n",
       "      <td>0.495622</td>\n",
       "      <td>0.368708</td>\n",
       "      <td>338.874784</td>\n",
       "      <td>5.223012</td>\n",
       "      <td>1.952015</td>\n",
       "      <td>...</td>\n",
       "      <td>1.497084e+05</td>\n",
       "      <td>1.575617e+04</td>\n",
       "      <td>0.959668</td>\n",
       "      <td>0.386376</td>\n",
       "      <td>0.710085</td>\n",
       "      <td>0.412310</td>\n",
       "      <td>9.666254</td>\n",
       "      <td>9.666254</td>\n",
       "      <td>2.375538</td>\n",
       "      <td>1.256785</td>\n",
       "    </tr>\n",
       "    <tr>\n",
       "      <th>min</th>\n",
       "      <td>417428.000000</td>\n",
       "      <td>4.124504</td>\n",
       "      <td>4.568202</td>\n",
       "      <td>13.500000</td>\n",
       "      <td>1.000000</td>\n",
       "      <td>0.000000</td>\n",
       "      <td>0.000000</td>\n",
       "      <td>0.000000</td>\n",
       "      <td>0.000000</td>\n",
       "      <td>0.000000</td>\n",
       "      <td>...</td>\n",
       "      <td>0.000000e+00</td>\n",
       "      <td>0.000000e+00</td>\n",
       "      <td>0.000000</td>\n",
       "      <td>0.000000</td>\n",
       "      <td>0.000000</td>\n",
       "      <td>0.000000</td>\n",
       "      <td>1954.000000</td>\n",
       "      <td>21.000000</td>\n",
       "      <td>0.000000</td>\n",
       "      <td>0.000000</td>\n",
       "    </tr>\n",
       "    <tr>\n",
       "      <th>25%</th>\n",
       "      <td>476481.000000</td>\n",
       "      <td>4.672550</td>\n",
       "      <td>4.817069</td>\n",
       "      <td>68.960000</td>\n",
       "      <td>1509.000000</td>\n",
       "      <td>0.000000</td>\n",
       "      <td>1.000000</td>\n",
       "      <td>0.000000</td>\n",
       "      <td>0.000000</td>\n",
       "      <td>0.000000</td>\n",
       "      <td>...</td>\n",
       "      <td>0.000000e+00</td>\n",
       "      <td>0.000000e+00</td>\n",
       "      <td>0.000000</td>\n",
       "      <td>0.000000</td>\n",
       "      <td>0.000000</td>\n",
       "      <td>0.000000</td>\n",
       "      <td>1977.000000</td>\n",
       "      <td>27.000000</td>\n",
       "      <td>0.000000</td>\n",
       "      <td>0.000000</td>\n",
       "    </tr>\n",
       "    <tr>\n",
       "      <th>50%</th>\n",
       "      <td>535593.000000</td>\n",
       "      <td>4.729999</td>\n",
       "      <td>4.850076</td>\n",
       "      <td>76.890000</td>\n",
       "      <td>2949.000000</td>\n",
       "      <td>0.000000</td>\n",
       "      <td>1.000000</td>\n",
       "      <td>15.000000</td>\n",
       "      <td>1.000000</td>\n",
       "      <td>0.000000</td>\n",
       "      <td>...</td>\n",
       "      <td>0.000000e+00</td>\n",
       "      <td>0.000000e+00</td>\n",
       "      <td>0.000000</td>\n",
       "      <td>0.000000</td>\n",
       "      <td>0.000000</td>\n",
       "      <td>0.000000</td>\n",
       "      <td>1985.000000</td>\n",
       "      <td>34.000000</td>\n",
       "      <td>0.000000</td>\n",
       "      <td>0.000000</td>\n",
       "    </tr>\n",
       "    <tr>\n",
       "      <th>75%</th>\n",
       "      <td>594774.000000</td>\n",
       "      <td>4.779690</td>\n",
       "      <td>4.897440</td>\n",
       "      <td>83.730000</td>\n",
       "      <td>5682.000000</td>\n",
       "      <td>1.000000</td>\n",
       "      <td>1.000000</td>\n",
       "      <td>680.000000</td>\n",
       "      <td>3.000000</td>\n",
       "      <td>1.000000</td>\n",
       "      <td>...</td>\n",
       "      <td>2.045000e+03</td>\n",
       "      <td>0.000000e+00</td>\n",
       "      <td>0.000000</td>\n",
       "      <td>0.000000</td>\n",
       "      <td>0.000000</td>\n",
       "      <td>0.000000</td>\n",
       "      <td>1992.000000</td>\n",
       "      <td>42.000000</td>\n",
       "      <td>2.000000</td>\n",
       "      <td>1.100000</td>\n",
       "    </tr>\n",
       "    <tr>\n",
       "      <th>max</th>\n",
       "      <td>671084.000000</td>\n",
       "      <td>5.994473</td>\n",
       "      <td>6.123510</td>\n",
       "      <td>95.000000</td>\n",
       "      <td>7345.000000</td>\n",
       "      <td>1.000000</td>\n",
       "      <td>1.000000</td>\n",
       "      <td>890.000000</td>\n",
       "      <td>453.000000</td>\n",
       "      <td>144.000000</td>\n",
       "      <td>...</td>\n",
       "      <td>2.564281e+07</td>\n",
       "      <td>4.170901e+06</td>\n",
       "      <td>35.000000</td>\n",
       "      <td>20.000000</td>\n",
       "      <td>36.000000</td>\n",
       "      <td>1.000000</td>\n",
       "      <td>1998.000000</td>\n",
       "      <td>65.000000</td>\n",
       "      <td>39.000000</td>\n",
       "      <td>30.900000</td>\n",
       "    </tr>\n",
       "  </tbody>\n",
       "</table>\n",
       "<p>8 rows × 30 columns</p>\n",
       "</div>"
      ],
      "text/plain": [
       "            uniqueid  disbursed_amount     asset_cost            ltv  \\\n",
       "count  225493.000000     225493.000000  225493.000000  225493.000000   \n",
       "mean   535677.453783          4.722708       4.868623      74.806634   \n",
       "std     68337.222749          0.101755       0.089162      11.441890   \n",
       "min    417428.000000          4.124504       4.568202      13.500000   \n",
       "25%    476481.000000          4.672550       4.817069      68.960000   \n",
       "50%    535593.000000          4.729999       4.850076      76.890000   \n",
       "75%    594774.000000          4.779690       4.897440      83.730000   \n",
       "max    671084.000000          5.994473       6.123510      95.000000   \n",
       "\n",
       "       current_pincode_id  employment.type    aadhar_flag  perform_cns.score  \\\n",
       "count       225493.000000    225493.000000  225493.000000      225493.000000   \n",
       "mean          3375.718133         0.433974       0.837720         293.040449   \n",
       "std           2253.216519         0.495622       0.368708         338.874784   \n",
       "min              1.000000         0.000000       0.000000           0.000000   \n",
       "25%           1509.000000         0.000000       1.000000           0.000000   \n",
       "50%           2949.000000         0.000000       1.000000          15.000000   \n",
       "75%           5682.000000         1.000000       1.000000         680.000000   \n",
       "max           7345.000000         1.000000       1.000000         890.000000   \n",
       "\n",
       "       pri.no.of.accts  pri.active.accts  ...  primary.instal.amt  \\\n",
       "count    225493.000000     225493.000000  ...        2.254930e+05   \n",
       "mean          2.462360          1.053767  ...        1.299246e+04   \n",
       "std           5.223012          1.952015  ...        1.497084e+05   \n",
       "min           0.000000          0.000000  ...        0.000000e+00   \n",
       "25%           0.000000          0.000000  ...        0.000000e+00   \n",
       "50%           1.000000          0.000000  ...        0.000000e+00   \n",
       "75%           3.000000          1.000000  ...        2.045000e+03   \n",
       "max         453.000000        144.000000  ...        2.564281e+07   \n",
       "\n",
       "       sec.instal.amt  new.accts.in.last.six.months  \\\n",
       "count    2.254930e+05                 225493.000000   \n",
       "mean     3.256845e+02                      0.386602   \n",
       "std      1.575617e+04                      0.959668   \n",
       "min      0.000000e+00                      0.000000   \n",
       "25%      0.000000e+00                      0.000000   \n",
       "50%      0.000000e+00                      0.000000   \n",
       "75%      0.000000e+00                      0.000000   \n",
       "max      4.170901e+06                     35.000000   \n",
       "\n",
       "       delinquent.accts.in.last.six.months  no.of_inquiries   loan_default  \\\n",
       "count                        225493.000000    225493.000000  225493.000000   \n",
       "mean                              0.098708         0.208845       0.217155   \n",
       "std                               0.386376         0.710085       0.412310   \n",
       "min                               0.000000         0.000000       0.000000   \n",
       "25%                               0.000000         0.000000       0.000000   \n",
       "50%                               0.000000         0.000000       0.000000   \n",
       "75%                               0.000000         0.000000       0.000000   \n",
       "max                              20.000000        36.000000       1.000000   \n",
       "\n",
       "       Year of birth            age  credit_hist_length  average_account_age  \n",
       "count  225493.000000  225493.000000       225493.000000        225493.000000  \n",
       "mean     1983.551991      35.448009            1.343675             0.724761  \n",
       "std         9.666254       9.666254            2.375538             1.256785  \n",
       "min      1954.000000      21.000000            0.000000             0.000000  \n",
       "25%      1977.000000      27.000000            0.000000             0.000000  \n",
       "50%      1985.000000      34.000000            0.000000             0.000000  \n",
       "75%      1992.000000      42.000000            2.000000             1.100000  \n",
       "max      1998.000000      65.000000           39.000000            30.900000  \n",
       "\n",
       "[8 rows x 30 columns]"
      ]
     },
     "execution_count": 53,
     "metadata": {},
     "output_type": "execute_result"
    }
   ],
   "source": [
    "df_loan2.describe()"
   ]
  },
  {
   "cell_type": "code",
   "execution_count": 54,
   "metadata": {
    "ExecuteTime": {
     "end_time": "2019-12-13T06:10:10.476061Z",
     "start_time": "2019-12-13T06:10:02.094789Z"
    }
   },
   "outputs": [
    {
     "data": {
      "image/png": "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\n",
      "text/plain": [
       "<Figure size 864x720 with 2 Axes>"
      ]
     },
     "metadata": {
      "needs_background": "light"
     },
     "output_type": "display_data"
    }
   ],
   "source": [
    "#Using Pearson Correlation\n",
    "plt.figure(figsize=(12,10))\n",
    "cor = df_loan2.corr()\n",
    "sns.heatmap(cor, annot=True, cmap=plt.cm.Reds)\n",
    "plt.show()"
   ]
  },
  {
   "cell_type": "code",
   "execution_count": 55,
   "metadata": {
    "ExecuteTime": {
     "end_time": "2019-12-13T06:10:10.498160Z",
     "start_time": "2019-12-13T06:10:10.481803Z"
    }
   },
   "outputs": [
    {
     "data": {
      "text/plain": [
       "loan_default    1.0\n",
       "Name: loan_default, dtype: float64"
      ]
     },
     "execution_count": 55,
     "metadata": {},
     "output_type": "execute_result"
    }
   ],
   "source": [
    "#Correlation with output variable\n",
    "cor_target = abs(cor[\"loan_default\"])\n",
    "#Selecting highly correlated features\n",
    "relevant_features = cor_target[cor_target>0.5]\n",
    "relevant_features"
   ]
  },
  {
   "cell_type": "markdown",
   "metadata": {},
   "source": [
    "There is no significant correlation between the variables"
   ]
  },
  {
   "cell_type": "markdown",
   "metadata": {},
   "source": [
    "### Backward elimination process for feaure selection\n",
    "\n",
    "We can see the selected fetures with p value based selection"
   ]
  },
  {
   "cell_type": "code",
   "execution_count": 56,
   "metadata": {
    "ExecuteTime": {
     "end_time": "2019-12-13T06:10:10.570811Z",
     "start_time": "2019-12-13T06:10:10.505673Z"
    }
   },
   "outputs": [],
   "source": [
    "X = df_loan2.drop('loan_default',axis = 1)\n",
    "y = df_loan2.loan_default"
   ]
  },
  {
   "cell_type": "code",
   "execution_count": 57,
   "metadata": {
    "ExecuteTime": {
     "end_time": "2019-12-13T06:10:24.413494Z",
     "start_time": "2019-12-13T06:10:10.577790Z"
    }
   },
   "outputs": [],
   "source": [
    "#Backward Elimination\n",
    "cols = list(X.columns)\n",
    "pmax = 1\n",
    "while (len(cols)>0):\n",
    "    p= []\n",
    "    X_1 = X[cols]\n",
    "    X_1 = sm.add_constant(X_1)\n",
    "    model = sm.OLS(y,X_1).fit()\n",
    "    p = pd.Series(model.pvalues.values[1:],index = cols)      \n",
    "    pmax = max(p)\n",
    "    feature_with_p_max = p.idxmax()\n",
    "    if(pmax>0.05):\n",
    "        cols.remove(feature_with_p_max)\n",
    "    else:\n",
    "        break\n",
    "selected_features_BE = cols\n"
   ]
  },
  {
   "cell_type": "code",
   "execution_count": 58,
   "metadata": {
    "ExecuteTime": {
     "end_time": "2019-12-13T06:10:24.428793Z",
     "start_time": "2019-12-13T06:10:24.417518Z"
    }
   },
   "outputs": [
    {
     "data": {
      "text/plain": [
       "['uniqueid',\n",
       " 'disbursed_amount',\n",
       " 'asset_cost',\n",
       " 'ltv',\n",
       " 'current_pincode_id',\n",
       " 'employment.type',\n",
       " 'aadhar_flag',\n",
       " 'perform_cns.score',\n",
       " 'pri.no.of.accts',\n",
       " 'pri.active.accts',\n",
       " 'pri.overdue.accts',\n",
       " 'pri.current.balance',\n",
       " 'delinquent.accts.in.last.six.months',\n",
       " 'no.of_inquiries',\n",
       " 'Year of birth',\n",
       " 'age',\n",
       " 'credit_hist_length',\n",
       " 'average_account_age']"
      ]
     },
     "execution_count": 58,
     "metadata": {},
     "output_type": "execute_result"
    }
   ],
   "source": [
    "selected_features_BE"
   ]
  },
  {
   "cell_type": "markdown",
   "metadata": {
    "ExecuteTime": {
     "end_time": "2019-11-23T15:46:58.664872Z",
     "start_time": "2019-11-23T15:46:58.658924Z"
    }
   },
   "source": [
    "The backward elimination has selected 17 features.We need to filter the number of features to reduce complexity of the model.\n",
    "We can employ a feature selection method to rank the features according to importance"
   ]
  },
  {
   "cell_type": "markdown",
   "metadata": {},
   "source": [
    "# Feature ranking with recursive feature elimination.\n",
    "\n",
    "Given an external estimator that assigns weights to features (e.g., the coefficients of a linear model), the goal of recursive feature elimination (RFE) is to select features by recursively considering smaller and smaller sets of features. First, the estimator is trained on the initial set of features and the importance of each feature is obtained either through a coef_ attribute or through a feature_importances_ attribute. Then, the least important features are pruned from current set of features. That procedure is recursively repeated on the pruned set until the desired number of features to select is eventually reached."
   ]
  },
  {
   "cell_type": "code",
   "execution_count": 60,
   "metadata": {
    "ExecuteTime": {
     "end_time": "2019-12-13T06:17:42.628969Z",
     "start_time": "2019-12-13T06:13:58.574701Z"
    }
   },
   "outputs": [
    {
     "name": "stderr",
     "output_type": "stream",
     "text": [
      "C:\\Users\\akhur\\Anaconda3\\lib\\site-packages\\sklearn\\svm\\base.py:931: ConvergenceWarning: Liblinear failed to converge, increase the number of iterations.\n",
      "  \"the number of iterations.\", ConvergenceWarning)\n"
     ]
    },
    {
     "name": "stdout",
     "output_type": "stream",
     "text": [
      "[False  True  True False False  True  True False False False  True False\n",
      " False False False False False False False False False False False False\n",
      " False False False False False]\n",
      "[15  1  1  6 12  1  1 11  7  4  1 20 18 19 17 25 23 24 13 14 22 21  9  3\n",
      "  2 10  8  5 16]\n"
     ]
    }
   ],
   "source": [
    "# Recursive Feature Elimination\n",
    "\n",
    "# load the datasets\n",
    "dataset = df_loan2\n",
    "# create a base classifier used to evaluate a subset of attributes\n",
    "model = LogisticRegression()\n",
    "# create the RFE model and select 5 attributes\n",
    "rfe = RFE(model,5)#limiing the number of features to select at 5\n",
    "rfe = rfe.fit(dataset.drop('loan_default',axis = 1), dataset.loan_default)\n",
    "# summarize the selection of the attributes\n",
    "print(rfe.support_)\n",
    "print(rfe.ranking_)"
   ]
  },
  {
   "cell_type": "code",
   "execution_count": 62,
   "metadata": {
    "ExecuteTime": {
     "end_time": "2019-12-13T06:18:39.192795Z",
     "start_time": "2019-12-13T06:18:39.187232Z"
    }
   },
   "outputs": [],
   "source": [
    "list1 =list(df_loan2.columns)\n",
    "list2 = list(rfe.ranking_)"
   ]
  },
  {
   "cell_type": "code",
   "execution_count": 63,
   "metadata": {
    "ExecuteTime": {
     "end_time": "2019-12-13T06:18:40.556602Z",
     "start_time": "2019-12-13T06:18:40.544611Z"
    }
   },
   "outputs": [
    {
     "name": "stdout",
     "output_type": "stream",
     "text": [
      "        Columnsnames        Ranking\n",
      "0       uniqueid            15\n",
      "1       disbursed_amount    1\n",
      "2       asset_cost          1\n",
      "3       ltv                 6\n",
      "4       current_pincode_id  12\n",
      "5       employment.type     1\n",
      "6       aadhar_flag         1\n",
      "7       perform_cns.score   11\n",
      "8       pri.no.of.accts     7\n",
      "9       pri.active.accts    4\n",
      "10      pri.overdue.accts   1\n",
      "11      pri.current.balance 20\n",
      "12      pri.sanctioned.amount18\n",
      "13      pri.disbursed.amount19\n",
      "14      sec.no.of.accts     17\n",
      "15      sec.active.accts    25\n",
      "16      sec.overdue.accts   23\n",
      "17      sec.current.balance 24\n",
      "18      sec.sanctioned.amount13\n",
      "19      sec.disbursed.amount14\n",
      "20      primary.instal.amt  22\n",
      "21      sec.instal.amt      21\n",
      "22      new.accts.in.last.six.months9\n",
      "23      delinquent.accts.in.last.six.months3\n",
      "24      no.of_inquiries     2\n",
      "25      loan_default        10\n",
      "26      Year of birth       8\n",
      "27      age                 5\n",
      "28      credit_hist_length  16\n"
     ]
    }
   ],
   "source": [
    "fmt = '%-8s%-20s%s'\n",
    "\n",
    "print(fmt % ('', 'Columnsnames', 'Ranking'))\n",
    "for i, (list1, list2) in enumerate(zip(list1, list2)):\n",
    "    print(fmt % (i, list1, list2))"
   ]
  },
  {
   "cell_type": "markdown",
   "metadata": {},
   "source": [
    "### Loading the data set with the selected feauture variables"
   ]
  },
  {
   "cell_type": "code",
   "execution_count": 64,
   "metadata": {
    "ExecuteTime": {
     "end_time": "2019-12-13T06:18:48.542449Z",
     "start_time": "2019-12-13T06:18:48.522685Z"
    }
   },
   "outputs": [],
   "source": [
    "df_loan2 = df_loan2[['disbursed_amount','asset_cost','employment.type','aadhar_flag','pri.overdue.accts','loan_default']]"
   ]
  },
  {
   "cell_type": "markdown",
   "metadata": {},
   "source": [
    "### Treating Outliers "
   ]
  },
  {
   "cell_type": "code",
   "execution_count": 65,
   "metadata": {
    "ExecuteTime": {
     "end_time": "2019-12-13T06:18:50.242448Z",
     "start_time": "2019-12-13T06:18:50.235940Z"
    }
   },
   "outputs": [],
   "source": [
    "from scipy import stats"
   ]
  },
  {
   "cell_type": "code",
   "execution_count": 66,
   "metadata": {
    "ExecuteTime": {
     "end_time": "2019-12-13T06:18:51.267737Z",
     "start_time": "2019-12-13T06:18:51.098531Z"
    }
   },
   "outputs": [
    {
     "data": {
      "text/html": [
       "<div>\n",
       "<style scoped>\n",
       "    .dataframe tbody tr th:only-of-type {\n",
       "        vertical-align: middle;\n",
       "    }\n",
       "\n",
       "    .dataframe tbody tr th {\n",
       "        vertical-align: top;\n",
       "    }\n",
       "\n",
       "    .dataframe thead th {\n",
       "        text-align: right;\n",
       "    }\n",
       "</style>\n",
       "<table border=\"1\" class=\"dataframe\">\n",
       "  <thead>\n",
       "    <tr style=\"text-align: right;\">\n",
       "      <th></th>\n",
       "      <th>disbursed_amount</th>\n",
       "      <th>asset_cost</th>\n",
       "      <th>employment.type</th>\n",
       "      <th>aadhar_flag</th>\n",
       "      <th>pri.overdue.accts</th>\n",
       "      <th>loan_default</th>\n",
       "    </tr>\n",
       "  </thead>\n",
       "  <tbody>\n",
       "    <tr>\n",
       "      <th>count</th>\n",
       "      <td>225493.000000</td>\n",
       "      <td>225493.000000</td>\n",
       "      <td>225493.000000</td>\n",
       "      <td>225493.000000</td>\n",
       "      <td>225493.000000</td>\n",
       "      <td>225493.000000</td>\n",
       "    </tr>\n",
       "    <tr>\n",
       "      <th>mean</th>\n",
       "      <td>4.722708</td>\n",
       "      <td>4.868623</td>\n",
       "      <td>0.433974</td>\n",
       "      <td>0.837720</td>\n",
       "      <td>0.158989</td>\n",
       "      <td>0.217155</td>\n",
       "    </tr>\n",
       "    <tr>\n",
       "      <th>std</th>\n",
       "      <td>0.101755</td>\n",
       "      <td>0.089162</td>\n",
       "      <td>0.495622</td>\n",
       "      <td>0.368708</td>\n",
       "      <td>0.553415</td>\n",
       "      <td>0.412310</td>\n",
       "    </tr>\n",
       "    <tr>\n",
       "      <th>min</th>\n",
       "      <td>4.124504</td>\n",
       "      <td>4.568202</td>\n",
       "      <td>0.000000</td>\n",
       "      <td>0.000000</td>\n",
       "      <td>0.000000</td>\n",
       "      <td>0.000000</td>\n",
       "    </tr>\n",
       "    <tr>\n",
       "      <th>25%</th>\n",
       "      <td>4.672550</td>\n",
       "      <td>4.817069</td>\n",
       "      <td>0.000000</td>\n",
       "      <td>1.000000</td>\n",
       "      <td>0.000000</td>\n",
       "      <td>0.000000</td>\n",
       "    </tr>\n",
       "    <tr>\n",
       "      <th>50%</th>\n",
       "      <td>4.729999</td>\n",
       "      <td>4.850076</td>\n",
       "      <td>0.000000</td>\n",
       "      <td>1.000000</td>\n",
       "      <td>0.000000</td>\n",
       "      <td>0.000000</td>\n",
       "    </tr>\n",
       "    <tr>\n",
       "      <th>75%</th>\n",
       "      <td>4.779690</td>\n",
       "      <td>4.897440</td>\n",
       "      <td>1.000000</td>\n",
       "      <td>1.000000</td>\n",
       "      <td>0.000000</td>\n",
       "      <td>0.000000</td>\n",
       "    </tr>\n",
       "    <tr>\n",
       "      <th>max</th>\n",
       "      <td>5.994473</td>\n",
       "      <td>6.123510</td>\n",
       "      <td>1.000000</td>\n",
       "      <td>1.000000</td>\n",
       "      <td>25.000000</td>\n",
       "      <td>1.000000</td>\n",
       "    </tr>\n",
       "  </tbody>\n",
       "</table>\n",
       "</div>"
      ],
      "text/plain": [
       "       disbursed_amount     asset_cost  employment.type    aadhar_flag  \\\n",
       "count     225493.000000  225493.000000    225493.000000  225493.000000   \n",
       "mean           4.722708       4.868623         0.433974       0.837720   \n",
       "std            0.101755       0.089162         0.495622       0.368708   \n",
       "min            4.124504       4.568202         0.000000       0.000000   \n",
       "25%            4.672550       4.817069         0.000000       1.000000   \n",
       "50%            4.729999       4.850076         0.000000       1.000000   \n",
       "75%            4.779690       4.897440         1.000000       1.000000   \n",
       "max            5.994473       6.123510         1.000000       1.000000   \n",
       "\n",
       "       pri.overdue.accts   loan_default  \n",
       "count      225493.000000  225493.000000  \n",
       "mean            0.158989       0.217155  \n",
       "std             0.553415       0.412310  \n",
       "min             0.000000       0.000000  \n",
       "25%             0.000000       0.000000  \n",
       "50%             0.000000       0.000000  \n",
       "75%             0.000000       0.000000  \n",
       "max            25.000000       1.000000  "
      ]
     },
     "execution_count": 66,
     "metadata": {},
     "output_type": "execute_result"
    }
   ],
   "source": [
    "df_loan2.describe()"
   ]
  },
  {
   "cell_type": "code",
   "execution_count": 67,
   "metadata": {
    "ExecuteTime": {
     "end_time": "2019-12-13T06:18:53.894546Z",
     "start_time": "2019-12-13T06:18:53.659356Z"
    }
   },
   "outputs": [
    {
     "name": "stdout",
     "output_type": "stream",
     "text": [
      "213636\n"
     ]
    },
    {
     "data": {
      "text/plain": [
       "Int64Index([    14,     16,     94,    152,    243,    316,    329,    355,\n",
       "               435,    446,\n",
       "            ...\n",
       "            232901, 232903, 232909, 232924, 232932, 232957, 232959, 232967,\n",
       "            233011, 233094],\n",
       "           dtype='int64', length=11857)"
      ]
     },
     "execution_count": 67,
     "metadata": {},
     "output_type": "execute_result"
    }
   ],
   "source": [
    "# detecting the outliers\n",
    "df_loan3 = df_loan2[(np.abs(stats.zscore(df_loan2)) < 3).all(axis=1)]\n",
    "print(len(df_loan3))\n",
    "# the rows we removed\n",
    "df_loan2.index.difference(df_loan3.index)"
   ]
  },
  {
   "cell_type": "markdown",
   "metadata": {},
   "source": [
    "### Logistic Regression on non-balanced data"
   ]
  },
  {
   "cell_type": "code",
   "execution_count": 68,
   "metadata": {
    "ExecuteTime": {
     "end_time": "2019-12-13T06:18:55.659473Z",
     "start_time": "2019-12-13T06:18:55.634054Z"
    }
   },
   "outputs": [
    {
     "data": {
      "text/plain": [
       "0    167544\n",
       "1     46092\n",
       "Name: loan_default, dtype: int64"
      ]
     },
     "execution_count": 68,
     "metadata": {},
     "output_type": "execute_result"
    }
   ],
   "source": [
    "df_loan3['loan_default'].value_counts()"
   ]
  },
  {
   "cell_type": "code",
   "execution_count": 69,
   "metadata": {
    "ExecuteTime": {
     "end_time": "2019-12-13T06:19:00.300807Z",
     "start_time": "2019-12-13T06:18:59.091778Z"
    }
   },
   "outputs": [
    {
     "name": "stdout",
     "output_type": "stream",
     "text": [
      "0.7838192065007771\n"
     ]
    }
   ],
   "source": [
    "### Separate input features (X) and target variable (y)\n",
    "y1 = df_loan3.loan_default\n",
    "X1 = df_loan3.drop('loan_default', axis=1)\n",
    "X1_train,X1_test,y1_train,y1_test=train_test_split(X1,y1,test_size=0.25,random_state=0)\n",
    "\n",
    "## Train model\n",
    "clf = LogisticRegression().fit(X1_train, y1_train)\n",
    "y1_pred = clf.predict(X1_test)\n",
    "print(accuracy_score(y1_pred,y1_test))\n"
   ]
  },
  {
   "cell_type": "code",
   "execution_count": 70,
   "metadata": {
    "ExecuteTime": {
     "end_time": "2019-12-13T06:19:02.118693Z",
     "start_time": "2019-12-13T06:19:02.110518Z"
    }
   },
   "outputs": [
    {
     "name": "stdout",
     "output_type": "stream",
     "text": [
      "[0]\n"
     ]
    }
   ],
   "source": [
    "print( np.unique(y1_pred))"
   ]
  },
  {
   "cell_type": "markdown",
   "metadata": {},
   "source": [
    "We can see that the model is predicting from both classes even with the imbalance.\n",
    "We can now try to balance the dataset to try and see if it has any effect on the accuracy score"
   ]
  },
  {
   "cell_type": "markdown",
   "metadata": {},
   "source": [
    "### Balancing the data using upsampling the minority class"
   ]
  },
  {
   "cell_type": "code",
   "execution_count": 71,
   "metadata": {
    "ExecuteTime": {
     "end_time": "2019-12-13T06:19:09.984639Z",
     "start_time": "2019-12-13T06:19:09.896109Z"
    }
   },
   "outputs": [
    {
     "data": {
      "text/plain": [
       "1    167544\n",
       "0    167544\n",
       "Name: loan_default, dtype: int64"
      ]
     },
     "execution_count": 71,
     "metadata": {},
     "output_type": "execute_result"
    }
   ],
   "source": [
    "# Separate majority and minority classes\n",
    "df_majority = df_loan3[df_loan3.loan_default ==0]\n",
    "df_minority = df_loan3[df_loan3.loan_default ==1]\n",
    " \n",
    "# Upsample minority class\n",
    "df_minority_upsampled = resample(df_minority, \n",
    "                                 replace=True,     # sample with replacement\n",
    "                                 n_samples= 167544,    # to match majority class\n",
    "                                 random_state=123) # reproducible results\n",
    " \n",
    "# Combine majority class with upsampled minority class\n",
    "df_upsampled = pd.concat([df_majority, df_minority_upsampled])\n",
    " \n",
    "# Display new class counts\n",
    "df_upsampled.loan_default.value_counts()"
   ]
  },
  {
   "cell_type": "code",
   "execution_count": 72,
   "metadata": {
    "ExecuteTime": {
     "end_time": "2019-12-13T06:19:14.611445Z",
     "start_time": "2019-12-13T06:19:13.298087Z"
    }
   },
   "outputs": [
    {
     "name": "stdout",
     "output_type": "stream",
     "text": [
      "[[21329 20803]\n",
      " [15981 25659]]\n",
      "[0 1]\n",
      "0.5609034044788235\n"
     ]
    }
   ],
   "source": [
    "# Separate input features (X) and target variable (y)\n",
    "y_u = df_upsampled.loan_default\n",
    "X_u = df_upsampled.drop('loan_default', axis=1)\n",
    "X_u_train,X_u_test,y_u_train,y_u_test=train_test_split(X_u,y_u,test_size=0.25,random_state=0)\n",
    "# Train model\n",
    "clf = LogisticRegression().fit(X_u_train, y_u_train)\n",
    "y_u_pred = clf.predict(X_u_test)\n",
    "cnf_matrix = metrics.confusion_matrix(y_u_test, y_u_pred)\n",
    "print(cnf_matrix)\n",
    "print( np.unique(y_u_pred) )\n",
    "print( accuracy_score(y_u_pred,y_u_test))"
   ]
  },
  {
   "cell_type": "markdown",
   "metadata": {},
   "source": [
    " ### Balancing the data using downsampling majority class"
   ]
  },
  {
   "cell_type": "code",
   "execution_count": 73,
   "metadata": {
    "ExecuteTime": {
     "end_time": "2019-12-13T06:19:17.654592Z",
     "start_time": "2019-12-13T06:19:17.580339Z"
    }
   },
   "outputs": [
    {
     "name": "stdout",
     "output_type": "stream",
     "text": [
      "1    46092\n",
      "0    46092\n",
      "Name: loan_default, dtype: int64\n"
     ]
    }
   ],
   "source": [
    "# Separate majority and minority classes\n",
    "df_majority = df_loan3[df_loan3.loan_default==0]\n",
    "df_minority = df_loan3[df_loan3.loan_default==1]\n",
    " \n",
    "# Downsample majority class\n",
    "df_majority_downsampled = resample(df_majority, \n",
    "                                 replace=False,    # sample without replacement\n",
    "                                 n_samples= 46092,     # to match minority class\n",
    "                                 random_state=123) # reproducible results\n",
    " \n",
    "# Combine minority class with downsampled majority class\n",
    "df_downsampled = pd.concat([df_majority_downsampled, df_minority])\n",
    "# Display new class counts\n",
    "print(df_downsampled.loan_default.value_counts())"
   ]
  },
  {
   "cell_type": "code",
   "execution_count": 74,
   "metadata": {
    "ExecuteTime": {
     "end_time": "2019-12-13T06:19:20.112292Z",
     "start_time": "2019-12-13T06:19:19.804326Z"
    }
   },
   "outputs": [
    {
     "name": "stdout",
     "output_type": "stream",
     "text": [
      "[[5833 5629]\n",
      " [4464 7120]]\n",
      "0.562049813416645\n"
     ]
    }
   ],
   "source": [
    "# Separate input features (X) and target variable (y)\n",
    "y_d = df_downsampled.loan_default\n",
    "X_d = df_downsampled.drop('loan_default', axis=1)\n",
    "X_d_train,X_d_test,y_d_train,y_d_test=train_test_split(X_d,y_d,test_size=0.25,random_state=0)\n",
    "# Train model\n",
    "clf_d = LogisticRegression().fit(X_d_train, y_d_train)\n",
    "y_d_pred = clf.predict(X_d_test)\n",
    "cnf_matrix = metrics.confusion_matrix(y_d_test, y_d_pred)\n",
    "print(cnf_matrix)\n",
    "print( accuracy_score(y_d_pred,y_d_test))"
   ]
  },
  {
   "cell_type": "markdown",
   "metadata": {},
   "source": [
    "Here we can see that balancing the dataset has made no improvement in the accuracy score infact it has reduced the the accuracy score by a significant value.We can see the probability values shown below as the ROC scores"
   ]
  },
  {
   "cell_type": "markdown",
   "metadata": {},
   "source": [
    "### ROC score\n"
   ]
  },
  {
   "cell_type": "code",
   "execution_count": 149,
   "metadata": {
    "ExecuteTime": {
     "end_time": "2019-12-13T19:48:04.045959Z",
     "start_time": "2019-12-13T19:48:03.778013Z"
    }
   },
   "outputs": [
    {
     "name": "stdout",
     "output_type": "stream",
     "text": [
      "ROC_AUC Score\n",
      "0.591436357936581\n"
     ]
    }
   ],
   "source": [
    "#roc score on imbalanced data\n",
    "prob_y1= clf.predict_proba(X1)\n",
    "prob_y1 = [p[1] for p in prob_y1]\n",
    "print(\"ROC_AUC Score\")\n",
    "print( roc_auc_score(y1, prob_y1) )\n"
   ]
  },
  {
   "cell_type": "code",
   "execution_count": 134,
   "metadata": {
    "ExecuteTime": {
     "end_time": "2019-12-13T17:03:59.616061Z",
     "start_time": "2019-12-13T17:03:59.371607Z"
    }
   },
   "outputs": [
    {
     "data": {
      "image/png": "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\n",
      "text/plain": [
       "<Figure size 432x288 with 1 Axes>"
      ]
     },
     "metadata": {
      "needs_background": "light"
     },
     "output_type": "display_data"
    }
   ],
   "source": [
    "fpr, tpr, threshold = metrics.roc_curve(y1, prob_y1)\n",
    "roc_auc = metrics.auc(fpr, tpr)\n",
    "import matplotlib.pyplot as plt\n",
    "plt.title('Receiver Operating Characteristic')\n",
    "plt.plot(fpr, tpr, 'b', label = 'AUC = %0.2f' % roc_auc)\n",
    "plt.legend(loc = 'lower right')\n",
    "plt.plot([0, 1], [0, 1],'r--')\n",
    "plt.xlim([0, 1])\n",
    "plt.ylim([0, 1])\n",
    "plt.ylabel('True Positive Rate')\n",
    "plt.xlabel('False Positive Rate')\n",
    "plt.show()"
   ]
  },
  {
   "cell_type": "code",
   "execution_count": 148,
   "metadata": {
    "ExecuteTime": {
     "end_time": "2019-12-13T19:47:44.171276Z",
     "start_time": "2019-12-13T19:47:43.875239Z"
    }
   },
   "outputs": [
    {
     "name": "stdout",
     "output_type": "stream",
     "text": [
      "ROC_AUC Score\n",
      "0.5921253604443046\n"
     ]
    },
    {
     "data": {
      "image/png": "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\n",
      "text/plain": [
       "<Figure size 432x288 with 1 Axes>"
      ]
     },
     "metadata": {
      "needs_background": "light"
     },
     "output_type": "display_data"
    }
   ],
   "source": [
    "#roc score on downsampled data\n",
    "# Predict class probabilities\n",
    "prob_y_d = clf_d.predict_proba(X_d)\n",
    " \n",
    "prob_y_d = [p[1] for p in prob_y_d]\n",
    "print(\"ROC_AUC Score\")\n",
    "print( roc_auc_score(y_d, prob_y_d) )\n",
    "fpr, tpr, threshold = metrics.roc_curve(y_d, prob_y_d)\n",
    "roc_auc = metrics.auc(fpr, tpr)\n",
    "plt.title('Receiver Operating Characteristic')\n",
    "plt.plot(fpr, tpr, 'b', label = 'AUC = %0.2f' % roc_auc)\n",
    "plt.legend(loc = 'lower right')\n",
    "plt.plot([0, 1], [0, 1],'r--')\n",
    "plt.xlim([0, 1])\n",
    "plt.ylim([0, 1])\n",
    "plt.ylabel('True Positive Rate')\n",
    "plt.xlabel('False Positive Rate')\n",
    "plt.show()"
   ]
  },
  {
   "cell_type": "code",
   "execution_count": 150,
   "metadata": {
    "ExecuteTime": {
     "end_time": "2019-12-13T19:48:13.739942Z",
     "start_time": "2019-12-13T19:48:12.999942Z"
    }
   },
   "outputs": [
    {
     "name": "stdout",
     "output_type": "stream",
     "text": [
      "ROC_AUC Score\n",
      "0.5915636857030231\n"
     ]
    },
    {
     "data": {
      "image/png": "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\n",
      "text/plain": [
       "<Figure size 432x288 with 1 Axes>"
      ]
     },
     "metadata": {
      "needs_background": "light"
     },
     "output_type": "display_data"
    }
   ],
   "source": [
    "#roc score on upsampled dataset\n",
    "prob_y_u= clf.predict_proba(X_u)\n",
    "prob_y_u = [p[1] for p in prob_y_u]\n",
    " \n",
    "print(\"ROC_AUC Score\")\n",
    "print(roc_auc_score(y_u, prob_y_u))\n",
    "\n",
    "fpr, tpr, threshold = metrics.roc_curve(y_u, prob_y_u)\n",
    "roc_auc = metrics.auc(fpr, tpr)\n",
    "plt.title('Receiver Operating Characteristic')\n",
    "plt.plot(fpr, tpr, 'b', label = 'AUC = %0.2f' % roc_auc)\n",
    "plt.legend(loc = 'lower right')\n",
    "plt.plot([0, 1], [0, 1],'r--')\n",
    "plt.xlim([0, 1])\n",
    "plt.ylim([0, 1])\n",
    "plt.ylabel('True Positive Rate')\n",
    "plt.xlabel('False Positive Rate')\n",
    "plt.show()\n"
   ]
  },
  {
   "cell_type": "markdown",
   "metadata": {},
   "source": [
    "Decision trees often perform well on imbalanced datasets because their hierarchical structure allows them to learn signals from both classes."
   ]
  },
  {
   "cell_type": "markdown",
   "metadata": {},
   "source": [
    "### Random forest classifier\n",
    "Random forest, like its name implies, consists of a large number of individual decision trees that operate as an ensemble. Each individual tree in the random forest spits out a class prediction and the class with the most votes becomes our model’s prediction (see figure below)."
   ]
  },
  {
   "cell_type": "code",
   "execution_count": 78,
   "metadata": {
    "ExecuteTime": {
     "end_time": "2019-12-13T06:19:49.245737Z",
     "start_time": "2019-12-13T06:19:33.079587Z"
    }
   },
   "outputs": [
    {
     "name": "stdout",
     "output_type": "stream",
     "text": [
      "[0 1]\n",
      "72.8183364278916\n"
     ]
    },
    {
     "data": {
      "text/plain": [
       "RandomForestClassifier(bootstrap=True, class_weight=None, criterion='gini',\n",
       "            max_depth=None, max_features='auto', max_leaf_nodes=None,\n",
       "            min_impurity_decrease=0.0, min_impurity_split=None,\n",
       "            min_samples_leaf=1, min_samples_split=2,\n",
       "            min_weight_fraction_leaf=0.0, n_estimators=10, n_jobs=None,\n",
       "            oob_score=False, random_state=None, verbose=0,\n",
       "            warm_start=False)"
      ]
     },
     "execution_count": 78,
     "metadata": {},
     "output_type": "execute_result"
    }
   ],
   "source": [
    "# Separate input features (X) and target variable (y)\n",
    "y = df_loan3.loan_default\n",
    "X = df_loan3.drop('loan_default', axis=1)\n",
    "X_train, X_test, y_train, y_test = train_test_split(X, y, test_size=0.3,random_state=0) \n",
    "# Train model \n",
    "clf_4 = RandomForestClassifier()\n",
    "clf_4.fit(X_train,y_train)\n",
    "# Predict on training set\n",
    "pred_y_4 = clf_4.predict(X_test) \n",
    "# Is our model predicting just one class?\n",
    "print( np.unique( pred_y_4 ) )\n",
    "# How's our accuracy?\n",
    "print(( accuracy_score(y_test, pred_y_4) )*100)\n",
    "# Train model\n",
    "clf_4 = RandomForestClassifier()\n",
    "clf_4.fit(X, y)"
   ]
  },
  {
   "cell_type": "code",
   "execution_count": 151,
   "metadata": {
    "ExecuteTime": {
     "end_time": "2019-12-13T19:48:22.552949Z",
     "start_time": "2019-12-13T19:48:20.908946Z"
    },
    "scrolled": true
   },
   "outputs": [
    {
     "name": "stdout",
     "output_type": "stream",
     "text": [
      "ROC_AUC Score\n",
      "0.9890643599890231\n"
     ]
    },
    {
     "data": {
      "image/png": "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\n",
      "text/plain": [
       "<Figure size 432x288 with 1 Axes>"
      ]
     },
     "metadata": {
      "needs_background": "light"
     },
     "output_type": "display_data"
    }
   ],
   "source": [
    "#AUC ROC SCORE AND CURVE FOR RANDOM FOREST\n",
    "prob_y1= clf_4.predict_proba(X)\n",
    "prob_y1 = [p[1] for p in prob_y1]\n",
    "print(\"ROC_AUC Score\")\n",
    "print( roc_auc_score(y1, prob_y1) )\n",
    "fpr, tpr, threshold = metrics.roc_curve(y1, prob_y1)\n",
    "roc_auc = metrics.auc(fpr, tpr)\n",
    "plt.title('Receiver Operating Characteristic')\n",
    "plt.plot(fpr, tpr, 'b', label = 'AUC = %0.2f' % roc_auc)\n",
    "plt.legend(loc = 'lower right')\n",
    "plt.plot([0, 1], [0, 1],'r--')\n",
    "plt.xlim([0, 1])\n",
    "plt.ylim([0, 1])\n",
    "plt.ylabel('True Positive Rate')\n",
    "plt.xlabel('False Positive Rate')\n",
    "plt.show()\n"
   ]
  },
  {
   "cell_type": "markdown",
   "metadata": {},
   "source": [
    "### Random forest classifier on downsampled data"
   ]
  },
  {
   "cell_type": "code",
   "execution_count": 156,
   "metadata": {
    "ExecuteTime": {
     "end_time": "2019-12-13T20:02:41.026785Z",
     "start_time": "2019-12-13T20:02:35.565850Z"
    }
   },
   "outputs": [
    {
     "name": "stdout",
     "output_type": "stream",
     "text": [
      "[0 1]\n",
      "53.10682981862362\n"
     ]
    },
    {
     "data": {
      "text/plain": [
       "RandomForestClassifier(bootstrap=True, class_weight=None, criterion='gini',\n",
       "            max_depth=None, max_features='auto', max_leaf_nodes=None,\n",
       "            min_impurity_decrease=0.0, min_impurity_split=None,\n",
       "            min_samples_leaf=1, min_samples_split=2,\n",
       "            min_weight_fraction_leaf=0.0, n_estimators=10, n_jobs=None,\n",
       "            oob_score=False, random_state=None, verbose=0,\n",
       "            warm_start=False)"
      ]
     },
     "execution_count": 156,
     "metadata": {},
     "output_type": "execute_result"
    }
   ],
   "source": [
    "#Random forest on downsampled data\n",
    "# Separate input features (X) and target variable (y)\n",
    "y_d = df_downsampled.loan_default\n",
    "X_d = df_downsampled.drop('loan_default', axis=1)\n",
    "X_d_train,X_d_test,y_d_train,y_d_test=train_test_split(X_d,y_d,test_size=0.25,random_state=0)\n",
    "clf_4 = RandomForestClassifier()\n",
    "clf_4.fit(X_d_train,y_d_train)\n",
    "# Predict on training set\n",
    "pred_y_4 = clf_4.predict(X_d_test) \n",
    "# Is our model predicting just one class?\n",
    "print( np.unique( pred_y_4 ) )\n",
    "# How's our accuracy?\n",
    "print(( accuracy_score(y_d_test, pred_y_4) )*100)\n",
    "# Train model\n",
    "clf_4 = RandomForestClassifier()\n",
    "clf_4.fit(X_d, y_d)"
   ]
  },
  {
   "cell_type": "code",
   "execution_count": 154,
   "metadata": {
    "ExecuteTime": {
     "end_time": "2019-12-13T19:57:22.087499Z",
     "start_time": "2019-12-13T19:57:20.887683Z"
    }
   },
   "outputs": [
    {
     "name": "stdout",
     "output_type": "stream",
     "text": [
      "ROC_AUC Score\n",
      "0.989080693963751\n"
     ]
    },
    {
     "data": {
      "image/png": "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\n",
      "text/plain": [
       "<Figure size 432x288 with 1 Axes>"
      ]
     },
     "metadata": {
      "needs_background": "light"
     },
     "output_type": "display_data"
    }
   ],
   "source": [
    "#ROC score and for random forest classifier downsampled data\n",
    "\n",
    "prob_y1= clf_4.predict_proba(X_d)\n",
    "prob_y1 = [p[1] for p in prob_y1]\n",
    "print(\"ROC_AUC Score\")\n",
    "print( roc_auc_score(y_d, prob_y1) )\n",
    "fpr, tpr, threshold = metrics.roc_curve(y_d, prob_y1)\n",
    "roc_auc = metrics.auc(fpr, tpr)\n",
    "plt.title('Receiver Operating Characteristic')\n",
    "plt.plot(fpr, tpr, 'b', label = 'AUC = %0.2f' % roc_auc)\n",
    "plt.legend(loc = 'lower right')\n",
    "plt.plot([0, 1], [0, 1],'r--')\n",
    "plt.xlim([0, 1])\n",
    "plt.ylim([0, 1])\n",
    "plt.ylabel('True Positive Rate')\n",
    "plt.xlabel('False Positive Rate')\n",
    "plt.show()\n"
   ]
  },
  {
   "cell_type": "markdown",
   "metadata": {},
   "source": [
    "### Random forest classifier on upsampled data"
   ]
  },
  {
   "cell_type": "code",
   "execution_count": 143,
   "metadata": {
    "ExecuteTime": {
     "end_time": "2019-12-13T19:20:54.055556Z",
     "start_time": "2019-12-13T19:20:42.115556Z"
    }
   },
   "outputs": [
    {
     "name": "stdout",
     "output_type": "stream",
     "text": [
      "[0 1]\n",
      "84.86129016855274\n"
     ]
    },
    {
     "data": {
      "text/plain": [
       "RandomForestClassifier(bootstrap=True, class_weight=None, criterion='gini',\n",
       "            max_depth=None, max_features='auto', max_leaf_nodes=None,\n",
       "            min_impurity_decrease=0.0, min_impurity_split=None,\n",
       "            min_samples_leaf=1, min_samples_split=2,\n",
       "            min_weight_fraction_leaf=0.0, n_estimators=10, n_jobs=None,\n",
       "            oob_score=False, random_state=None, verbose=0,\n",
       "            warm_start=False)"
      ]
     },
     "execution_count": 143,
     "metadata": {},
     "output_type": "execute_result"
    }
   ],
   "source": [
    "\n",
    "# Separate input features (X) and target variable (y)\n",
    "y_u = df_upsampled.loan_default\n",
    "X_u = df_upsampled.drop('loan_default', axis=1)\n",
    "X_u_train,X_u_test,y_u_train,y_u_test=train_test_split(X_u,y_u,test_size=0.25,random_state=0)\n",
    "clf_4 = RandomForestClassifier()\n",
    "clf_4.fit(X_u_train,y_u_train)\n",
    "# Predict on training set\n",
    "pred_y_4 = clf_4.predict(X_u_test) \n",
    "# Is our model predicting just one class?\n",
    "print( np.unique( pred_y_4 ) )\n",
    "# How's our accuracy?\n",
    "print(( accuracy_score(y_u_test, pred_y_4) )*100)\n",
    "# Train model\n",
    "clf_4 = RandomForestClassifier()\n",
    "clf_4.fit(X_u, y_u)"
   ]
  },
  {
   "cell_type": "markdown",
   "metadata": {},
   "source": [
    "This is  a significant improvement from the past accuracy score"
   ]
  },
  {
   "cell_type": "code",
   "execution_count": 152,
   "metadata": {
    "ExecuteTime": {
     "end_time": "2019-12-13T19:48:36.242829Z",
     "start_time": "2019-12-13T19:48:33.818830Z"
    }
   },
   "outputs": [
    {
     "name": "stdout",
     "output_type": "stream",
     "text": [
      "ROC_AUC Score\n",
      "0.997922665856164\n"
     ]
    },
    {
     "data": {
      "image/png": "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\n",
      "text/plain": [
       "<Figure size 432x288 with 1 Axes>"
      ]
     },
     "metadata": {
      "needs_background": "light"
     },
     "output_type": "display_data"
    }
   ],
   "source": [
    "#ROC score for random forest classifier upsampled data\n",
    "\n",
    "prob_y1= clf_4.predict_proba(X_u)\n",
    "prob_y1 = [p[1] for p in prob_y1]\n",
    "print(\"ROC_AUC Score\")\n",
    "print( roc_auc_score(y_u, prob_y1) )\n",
    "fpr, tpr, threshold = metrics.roc_curve(y_u, prob_y1)\n",
    "roc_auc = metrics.auc(fpr, tpr)\n",
    "plt.title('Receiver Operating Characteristic')\n",
    "plt.plot(fpr, tpr, 'b', label = 'AUC = %0.2f' % roc_auc)\n",
    "plt.legend(loc = 'lower right')\n",
    "plt.plot([0, 1], [0, 1],'r--')\n",
    "plt.xlim([0, 1])\n",
    "plt.ylim([0, 1])\n",
    "plt.ylabel('True Positive Rate')\n",
    "plt.xlabel('False Positive Rate')\n",
    "plt.show()\n"
   ]
  },
  {
   "cell_type": "markdown",
   "metadata": {},
   "source": [
    "We can see that random forest signifiantly outperforms the logistic regression and the change is also reflected in the roc curve with the curve far away from baseline"
   ]
  },
  {
   "cell_type": "markdown",
   "metadata": {},
   "source": [
    "### References\n",
    "https://scikit-learn.org/stable/modules/generated/sklearn.feature_selection.RFE.html#sklearn.feature_selection.RFE\n",
    "\n",
    "https://stackoverflow.com/questions/35494282/freeing-memory-tied-to-errors-in-ipython-notebook\n",
    "\n",
    "https://www.datacamp.com/community/tutorials/feature-selection-python\n",
    "\n",
    "https://elitedatascience.com/imbalanced-classes\n",
    "\n",
    "https://stackoverflow.com/questions/27663924/printing-2-evenly-populated-lists-side-by-side-evenly/27663989\n",
    "\n",
    "https://stats.stackexchange.com/questions/132777/what-does-auc-stand-for-and-what-is-it\n",
    "\n",
    "https://towardsdatascience.com/understanding-random-forest-58381e0602d2\n",
    "\n",
    "https://stackoverflow.com/questions/25009284/how-to-plot-roc-curve-in-python\n",
    "\n",
    "https://machinelearningmastery.com/assessing-comparing-classifier-performance-roc-curves-2/"
   ]
  },
  {
   "cell_type": "code",
   "execution_count": null,
   "metadata": {},
   "outputs": [],
   "source": []
  },
  {
   "cell_type": "code",
   "execution_count": null,
   "metadata": {},
   "outputs": [],
   "source": []
  },
  {
   "cell_type": "code",
   "execution_count": null,
   "metadata": {},
   "outputs": [],
   "source": []
  },
  {
   "cell_type": "code",
   "execution_count": null,
   "metadata": {},
   "outputs": [],
   "source": []
  }
 ],
 "metadata": {
  "kernelspec": {
   "display_name": "Python 3",
   "language": "python",
   "name": "python3"
  },
  "language_info": {
   "codemirror_mode": {
    "name": "ipython",
    "version": 3
   },
   "file_extension": ".py",
   "mimetype": "text/x-python",
   "name": "python",
   "nbconvert_exporter": "python",
   "pygments_lexer": "ipython3",
   "version": "3.7.3"
  },
  "latex_envs": {
   "LaTeX_envs_menu_present": true,
   "autoclose": false,
   "autocomplete": true,
   "bibliofile": "biblio.bib",
   "cite_by": "apalike",
   "current_citInitial": 1,
   "eqLabelWithNumbers": true,
   "eqNumInitial": 1,
   "hotkeys": {
    "equation": "Ctrl-E",
    "itemize": "Ctrl-I"
   },
   "labels_anchors": false,
   "latex_user_defs": false,
   "report_style_numbering": false,
   "user_envs_cfg": false
  }
 },
 "nbformat": 4,
 "nbformat_minor": 2
}
